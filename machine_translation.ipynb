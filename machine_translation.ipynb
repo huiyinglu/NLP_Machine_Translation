{
 "cells": [
  {
   "cell_type": "markdown",
   "metadata": {
    "collapsed": true
   },
   "source": [
    "# Machine Translation Project\n",
    "## Introduction\n",
    "In this notebook, we will build a deep neural network that functions as part of an end-to-end machine translation pipeline. Our completed pipeline will accept English text as input and return the French translation.\n",
    "\n",
    "- **Preprocess** - We'll convert text to sequence of integers.\n",
    "- **Models** Create models which accepts a sequence of integers as input and returns a probability distribution over possible translations. After investigating the performance of the basic types of neural networks that are often used for machine translation, we will put together a final model which will outperform all other models!\n",
    "- **Prediction** Run the model on English text."
   ]
  },
  {
   "cell_type": "code",
   "execution_count": 2,
   "metadata": {},
   "outputs": [],
   "source": [
    "%load_ext autoreload\n",
    "%aimport helper, tests\n",
    "%autoreload 1"
   ]
  },
  {
   "cell_type": "code",
   "execution_count": 3,
   "metadata": {},
   "outputs": [
    {
     "name": "stderr",
     "output_type": "stream",
     "text": [
      "Using TensorFlow backend.\n"
     ]
    }
   ],
   "source": [
    "import collections\n",
    "\n",
    "import helper\n",
    "import numpy as np\n",
    "import project_tests as tests\n",
    "\n",
    "from keras.preprocessing.text import Tokenizer\n",
    "from keras.preprocessing.sequence import pad_sequences\n",
    "from keras.models import Model\n",
    "from keras.layers import GRU, LSTM, Input, Dense, TimeDistributed, Activation, RepeatVector, Bidirectional\n",
    "from keras.layers.embeddings import Embedding\n",
    "from keras.optimizers import Adam\n",
    "from keras.losses import sparse_categorical_crossentropy"
   ]
  },
  {
   "cell_type": "markdown",
   "metadata": {},
   "source": [
    "## Dataset\n",
    "We begin by investigating the dataset that will be used to train and evaluate our pipeline.  The most common datasets used for machine translation are from [WMT](http://www.statmt.org/).  However, that will take a long time to train a neural network on.  We'll be using a dataset we created for this project that contains a small vocabulary. We'll be able to train your model in a reasonable time with this dataset.\n",
    "### Load Data\n",
    "The data is located in `data/small_vocab_en` and `data/small_vocab_fr`. The `small_vocab_en` file contains English sentences with their French translations in the `small_vocab_fr` file."
   ]
  },
  {
   "cell_type": "code",
   "execution_count": 6,
   "metadata": {},
   "outputs": [
    {
     "name": "stdout",
     "output_type": "stream",
     "text": [
      "Dataset Loaded\n"
     ]
    }
   ],
   "source": [
    "# Load English data\n",
    "english_sentences = helper.load_data('data/small_vocab_en')\n",
    "# Load French data\n",
    "french_sentences = helper.load_data('data/small_vocab_fr')\n",
    "\n",
    "print('Dataset Loaded')"
   ]
  },
  {
   "cell_type": "markdown",
   "metadata": {},
   "source": [
    "### Files\n",
    "Each line in `small_vocab_en` contains an English sentence with the respective translation in each line of `small_vocab_fr`.  Let's view the first two lines from each file."
   ]
  },
  {
   "cell_type": "code",
   "execution_count": 7,
   "metadata": {},
   "outputs": [
    {
     "name": "stdout",
     "output_type": "stream",
     "text": [
      "small_vocab_en Line 1:  new jersey is sometimes quiet during autumn , and it is snowy in april .\n",
      "small_vocab_fr Line 1:  new jersey est parfois calme pendant l' automne , et il est neigeux en avril .\n",
      "small_vocab_en Line 2:  the united states is usually chilly during july , and it is usually freezing in november .\n",
      "small_vocab_fr Line 2:  les états-unis est généralement froid en juillet , et il gèle habituellement en novembre .\n"
     ]
    }
   ],
   "source": [
    "for sample_i in range(2):\n",
    "    print('small_vocab_en Line {}:  {}'.format(sample_i + 1, english_sentences[sample_i]))\n",
    "    print('small_vocab_fr Line {}:  {}'.format(sample_i + 1, french_sentences[sample_i]))"
   ]
  },
  {
   "cell_type": "markdown",
   "metadata": {},
   "source": [
    "From looking at the sentences, you can see they have been preprocessed already.  The puncuations have been delimited using spaces. All the text have been converted to lowercase.  This should save us some time, but the text requires more preprocessing.\n",
    "### Vocabulary\n",
    "The complexity of the problem is determined by the complexity of the vocabulary.  A more complex vocabulary is a more complex problem.  Let's look at the complexity of the dataset we'll be working with."
   ]
  },
  {
   "cell_type": "code",
   "execution_count": 8,
   "metadata": {},
   "outputs": [
    {
     "name": "stdout",
     "output_type": "stream",
     "text": [
      "1823250 English words.\n",
      "227 unique English words.\n",
      "10 Most common words in the English dataset:\n",
      "\"is\" \",\" \".\" \"in\" \"it\" \"during\" \"the\" \"but\" \"and\" \"sometimes\"\n",
      "\n",
      "1961295 French words.\n",
      "355 unique French words.\n",
      "10 Most common words in the French dataset:\n",
      "\"est\" \".\" \",\" \"en\" \"il\" \"les\" \"mais\" \"et\" \"la\" \"parfois\"\n"
     ]
    }
   ],
   "source": [
    "english_words_counter = collections.Counter([word for sentence in english_sentences for word in sentence.split()])\n",
    "french_words_counter = collections.Counter([word for sentence in french_sentences for word in sentence.split()])\n",
    "\n",
    "print('{} English words.'.format(len([word for sentence in english_sentences for word in sentence.split()])))\n",
    "print('{} unique English words.'.format(len(english_words_counter)))\n",
    "print('10 Most common words in the English dataset:')\n",
    "print('\"' + '\" \"'.join(list(zip(*english_words_counter.most_common(10)))[0]) + '\"')\n",
    "print()\n",
    "print('{} French words.'.format(len([word for sentence in french_sentences for word in sentence.split()])))\n",
    "print('{} unique French words.'.format(len(french_words_counter)))\n",
    "print('10 Most common words in the French dataset:')\n",
    "print('\"' + '\" \"'.join(list(zip(*french_words_counter.most_common(10)))[0]) + '\"')"
   ]
  },
  {
   "cell_type": "markdown",
   "metadata": {},
   "source": [
    "For comparison, _Alice's Adventures in Wonderland_ contains 2,766 unique words of a total of 15,500 words.\n",
    "## Preprocess\n",
    "For this project, we won't use text data as input to your model. Instead, you'll convert the text into sequences of integers using the following preprocess methods:\n",
    "1. Tokenize the words into ids\n",
    "2. Add padding to make all the sequences the same length.\n",
    "\n",
    "Time to start preprocessing the data...\n",
    "### Tokenize\n",
    "For a neural network to predict on text data, it first has to be turned into data it can understand. Text data like \"dog\" is a sequence of ASCII character encodings.  Since a neural network is a series of multiplication and addition operations, the input data needs to be number(s).\n",
    "\n",
    "We can turn each character into a number or each word into a number.  These are called character and word ids, respectively.  Character ids are used for character level models that generate text predictions for each character.  A word level model uses word ids that generate text predictions for each word.  Word level models tend to learn better, since they are lower in complexity, so we'll use those.\n",
    "\n",
    "We will use Keras's [`Tokenizer`] function to turn each sentence into a sequence of words ids."
   ]
  },
  {
   "cell_type": "code",
   "execution_count": 9,
   "metadata": {},
   "outputs": [
    {
     "name": "stdout",
     "output_type": "stream",
     "text": [
      "{'the': 1, 'quick': 2, 'a': 3, 'brown': 4, 'fox': 5, 'jumps': 6, 'over': 7, 'lazy': 8, 'dog': 9, 'by': 10, 'jove': 11, 'my': 12, 'study': 13, 'of': 14, 'lexicography': 15, 'won': 16, 'prize': 17, 'this': 18, 'is': 19, 'short': 20, 'sentence': 21}\n",
      "\n",
      "Sequence 1 in x\n",
      "  Input:  The quick brown fox jumps over the lazy dog .\n",
      "  Output: [1, 2, 4, 5, 6, 7, 1, 8, 9]\n",
      "Sequence 2 in x\n",
      "  Input:  By Jove , my quick study of lexicography won a prize .\n",
      "  Output: [10, 11, 12, 2, 13, 14, 15, 16, 3, 17]\n",
      "Sequence 3 in x\n",
      "  Input:  This is a short sentence .\n",
      "  Output: [18, 19, 3, 20, 21]\n"
     ]
    }
   ],
   "source": [
    "def tokenize(x):\n",
    "    \"\"\"\n",
    "    Tokenize x\n",
    "    :param x: List of sentences/strings to be tokenized\n",
    "    :return: Tuple of (tokenized x data, tokenizer used to tokenize x)\n",
    "    \"\"\"\n",
    "    x_tk = Tokenizer()\n",
    "    x_tk.fit_on_texts(x)\n",
    "    \n",
    "    return x_tk.texts_to_sequences(x), x_tk\n",
    "tests.test_tokenize(tokenize)\n",
    "\n",
    "# Tokenize Example output\n",
    "text_sentences = [\n",
    "    'The quick brown fox jumps over the lazy dog .',\n",
    "    'By Jove , my quick study of lexicography won a prize .',\n",
    "    'This is a short sentence .']\n",
    "text_tokenized, text_tokenizer = tokenize(text_sentences)\n",
    "print(text_tokenizer.word_index)\n",
    "print()\n",
    "for sample_i, (sent, token_sent) in enumerate(zip(text_sentences, text_tokenized)):\n",
    "    print('Sequence {} in x'.format(sample_i + 1))\n",
    "    print('  Input:  {}'.format(sent))\n",
    "    print('  Output: {}'.format(token_sent))"
   ]
  },
  {
   "cell_type": "markdown",
   "metadata": {},
   "source": [
    "### Padding\n",
    "When batching the sequence of word ids together, each sequence needs to be the same length.  Since sentences are dynamic in length, we can add padding to the end of the sequences to make them the same length.\n",
    "\n",
    "Let's make sure all the English sequences have the same length and all the French sequences have the same length by adding padding to the **end** of each sequence using Keras's [`pad_sequences`](https://keras.io/preprocessing/sequence/#pad_sequences) function."
   ]
  },
  {
   "cell_type": "code",
   "execution_count": 10,
   "metadata": {},
   "outputs": [
    {
     "name": "stdout",
     "output_type": "stream",
     "text": [
      "Sequence 1 in x\n",
      "  Input:  [1 2 4 5 6 7 1 8 9]\n",
      "  Output: [1 2 4 5 6 7 1 8 9 0]\n",
      "Sequence 2 in x\n",
      "  Input:  [10 11 12  2 13 14 15 16  3 17]\n",
      "  Output: [10 11 12  2 13 14 15 16  3 17]\n",
      "Sequence 3 in x\n",
      "  Input:  [18 19  3 20 21]\n",
      "  Output: [18 19  3 20 21  0  0  0  0  0]\n"
     ]
    }
   ],
   "source": [
    "def pad(x, length=None):\n",
    "    \"\"\"\n",
    "    Pad x\n",
    "    :param x: List of sequences.\n",
    "    :param length: Length to pad the sequence to.  If None, use length of longest sequence in x.\n",
    "    :return: Padded numpy array of sequences\n",
    "    \"\"\"\n",
    "    if length is None:\n",
    "        length = max([len(seq) for seq in x])\n",
    "    return pad_sequences(x, maxlen=length, padding=\"post\")\n",
    "\n",
    "tests.test_pad(pad)\n",
    "\n",
    "# Pad Tokenized output\n",
    "test_pad = pad(text_tokenized)\n",
    "for sample_i, (token_sent, pad_sent) in enumerate(zip(text_tokenized, test_pad)):\n",
    "    print('Sequence {} in x'.format(sample_i + 1))\n",
    "    print('  Input:  {}'.format(np.array(token_sent)))\n",
    "    print('  Output: {}'.format(pad_sent))"
   ]
  },
  {
   "cell_type": "markdown",
   "metadata": {},
   "source": [
    "### Preprocess Pipeline"
   ]
  },
  {
   "cell_type": "code",
   "execution_count": 11,
   "metadata": {},
   "outputs": [
    {
     "name": "stdout",
     "output_type": "stream",
     "text": [
      "Data Preprocessed\n",
      "Max English sentence length: 15\n",
      "Max French sentence length: 21\n",
      "English vocabulary size: 199\n",
      "French vocabulary size: 344\n"
     ]
    }
   ],
   "source": [
    "def preprocess(x, y):\n",
    "    \"\"\"\n",
    "    Preprocess x and y\n",
    "    :param x: Feature List of sentences\n",
    "    :param y: Label List of sentences\n",
    "    :return: Tuple of (Preprocessed x, Preprocessed y, x tokenizer, y tokenizer)\n",
    "    \"\"\"\n",
    "    preprocess_x, x_tk = tokenize(x)\n",
    "    preprocess_y, y_tk = tokenize(y)\n",
    "\n",
    "    preprocess_x = pad(preprocess_x)\n",
    "    preprocess_y = pad(preprocess_y)\n",
    "\n",
    "    # Keras's sparse_categorical_crossentropy function requires the labels to be in 3 dimensions\n",
    "    preprocess_y = preprocess_y.reshape(*preprocess_y.shape, 1)\n",
    "\n",
    "    return preprocess_x, preprocess_y, x_tk, y_tk\n",
    "\n",
    "preproc_english_sentences, preproc_french_sentences, english_tokenizer, french_tokenizer =\\\n",
    "    preprocess(english_sentences, french_sentences)\n",
    "    \n",
    "max_english_sequence_length = preproc_english_sentences.shape[1]\n",
    "max_french_sequence_length = preproc_french_sentences.shape[1]\n",
    "english_vocab_size = len(english_tokenizer.word_index)\n",
    "french_vocab_size = len(french_tokenizer.word_index)\n",
    "\n",
    "print('Data Preprocessed')\n",
    "print(\"Max English sentence length:\", max_english_sequence_length)\n",
    "print(\"Max French sentence length:\", max_french_sequence_length)\n",
    "print(\"English vocabulary size:\", english_vocab_size)\n",
    "print(\"French vocabulary size:\", french_vocab_size)"
   ]
  },
  {
   "cell_type": "markdown",
   "metadata": {},
   "source": [
    "## Models\n",
    "In this section, we will experiment with various neural network architectures.\n",
    "We will begin by training four architectures.\n",
    "- Model 1 is a simple RNN\n",
    "- Model 2 is a RNN with Embedding\n",
    "- Model 3 is a Bidirectional RNN\n",
    "- Model 4 is an Encoder-Decoder RNN (with attention)\n",
    "\n",
    "After experimenting with the four architectures, we will construct a deeper architecture that is designed to outperform all four models.\n",
    "### Ids Back to Text\n",
    "The neural network will be translating the input to words ids, which isn't the final form we want.  We want the French translation.  The function `logits_to_text` will bridge the gab between the logits from the neural network to the French translation."
   ]
  },
  {
   "cell_type": "code",
   "execution_count": 12,
   "metadata": {},
   "outputs": [
    {
     "name": "stdout",
     "output_type": "stream",
     "text": [
      "`logits_to_text` function loaded.\n"
     ]
    }
   ],
   "source": [
    "def logits_to_text(logits, tokenizer):\n",
    "    \"\"\"\n",
    "    Turn logits from a neural network into text using the tokenizer\n",
    "    :param logits: Logits from a neural network\n",
    "    :param tokenizer: Keras Tokenizer fit on the labels\n",
    "    :return: String that represents the text of the logits\n",
    "    \"\"\"\n",
    "    index_to_words = {id: word for word, id in tokenizer.word_index.items()}\n",
    "    index_to_words[0] = '<PAD>'\n",
    "\n",
    "    return ' '.join([index_to_words[prediction] for prediction in np.argmax(logits, 1)])\n",
    "\n",
    "print('`logits_to_text` function loaded.')"
   ]
  },
  {
   "cell_type": "markdown",
   "metadata": {},
   "source": [
    "### Model 1: RNN \n",
    "![RNN](images/rnn.png)\n",
    "A basic RNN model is a good baseline for sequence data.  In this model, we'll build a RNN that translates English to French."
   ]
  },
  {
   "cell_type": "code",
   "execution_count": 12,
   "metadata": {},
   "outputs": [
    {
     "name": "stdout",
     "output_type": "stream",
     "text": [
      "Train on 110288 samples, validate on 27573 samples\n",
      "Epoch 1/10\n",
      "110288/110288 [==============================] - 9s 80us/step - loss: 3.0054 - acc: 0.4366 - val_loss: 2.3240 - val_acc: 0.4821\n",
      "Epoch 2/10\n",
      "110288/110288 [==============================] - 8s 76us/step - loss: 2.0565 - acc: 0.5273 - val_loss: 1.8160 - val_acc: 0.5654\n",
      "Epoch 3/10\n",
      "110288/110288 [==============================] - 8s 76us/step - loss: 1.6979 - acc: 0.5801 - val_loss: 1.6060 - val_acc: 0.5894\n",
      "Epoch 4/10\n",
      "110288/110288 [==============================] - 8s 76us/step - loss: 1.5458 - acc: 0.6014 - val_loss: 1.4902 - val_acc: 0.6098\n",
      "Epoch 5/10\n",
      "110288/110288 [==============================] - 8s 76us/step - loss: 1.4463 - acc: 0.6161 - val_loss: 1.4041 - val_acc: 0.6196\n",
      "Epoch 6/10\n",
      "110288/110288 [==============================] - 8s 75us/step - loss: 1.3678 - acc: 0.6263 - val_loss: 1.3322 - val_acc: 0.6364\n",
      "Epoch 7/10\n",
      "110288/110288 [==============================] - 8s 76us/step - loss: 1.3019 - acc: 0.6386 - val_loss: 1.2731 - val_acc: 0.6456\n",
      "Epoch 8/10\n",
      "110288/110288 [==============================] - 8s 76us/step - loss: 1.2482 - acc: 0.6492 - val_loss: 1.2251 - val_acc: 0.6516\n",
      "Epoch 9/10\n",
      "110288/110288 [==============================] - 8s 75us/step - loss: 1.2035 - acc: 0.6548 - val_loss: 1.1824 - val_acc: 0.6573\n",
      "Epoch 10/10\n",
      "110288/110288 [==============================] - 8s 74us/step - loss: 1.1669 - acc: 0.6588 - val_loss: 1.1508 - val_acc: 0.6630\n",
      "new jersey est parfois calme en l' et il il est en en <PAD> <PAD> <PAD> <PAD> <PAD> <PAD> <PAD> <PAD>\n"
     ]
    }
   ],
   "source": [
    "def simple_model(input_shape, output_sequence_length, english_vocab_size, french_vocab_size):\n",
    "    \"\"\"\n",
    "    Build and train a basic RNN on x and y\n",
    "    :param input_shape: Tuple of input shape\n",
    "    :param output_sequence_length: Length of output sequence\n",
    "    :param english_vocab_size: Number of unique English words in the dataset\n",
    "    :param french_vocab_size: Number of unique French words in the dataset\n",
    "    :return: Keras model built, but not trained\n",
    "    \"\"\"\n",
    "    learning_rate = 1e-3\n",
    "    input_seq = Input(shape=input_shape[1:])\n",
    "    rnn = GRU(128, return_sequences=True)(input_seq)\n",
    "    logits = TimeDistributed(Dense(french_vocab_size))(rnn)\n",
    "    \n",
    "    model = Model(input_seq, Activation('softmax')(logits))\n",
    "    model.compile(loss=sparse_categorical_crossentropy,\n",
    "                  optimizer=Adam(learning_rate),\n",
    "                  metrics=['accuracy'])\n",
    "    return model\n",
    "tests.test_simple_model(simple_model)\n",
    "\n",
    "# Reshaping the input to work with a basic RNN\n",
    "tmp_x = pad(preproc_english_sentences, max_french_sequence_length)\n",
    "tmp_x = tmp_x.reshape((-1, preproc_french_sentences.shape[-2], 1))\n",
    "\n",
    "# Train the neural network\n",
    "simple_rnn_model = simple_model(\n",
    "    tmp_x.shape,\n",
    "    max_french_sequence_length,\n",
    "    english_vocab_size+1,\n",
    "    french_vocab_size+1)\n",
    "simple_rnn_model.fit(tmp_x, preproc_french_sentences, batch_size=1024, epochs=10, validation_split=0.2)\n",
    "\n",
    "# Print prediction(s)\n",
    "print(logits_to_text(simple_rnn_model.predict(tmp_x[:1])[0], french_tokenizer))"
   ]
  },
  {
   "cell_type": "markdown",
   "metadata": {},
   "source": [
    "### Model 2: Embedding\n",
    "![RNN](images/embedding.png)\n",
    "We've turned the words into ids, but there's a better representation of a word.  This is called word embeddings.  An embedding is a vector representation of the word that is close to similar words in n-dimensional space, where the n represents the size of the embedding vectors.\n",
    "\n",
    "In this model, we'll create a RNN model using embedding."
   ]
  },
  {
   "cell_type": "code",
   "execution_count": 15,
   "metadata": {},
   "outputs": [
    {
     "name": "stdout",
     "output_type": "stream",
     "text": [
      "Train on 110288 samples, validate on 27573 samples\n",
      "Epoch 1/10\n",
      "110288/110288 [==============================] - 11s 98us/step - loss: 3.3246 - acc: 0.4235 - val_loss: 2.4486 - val_acc: 0.4878\n",
      "Epoch 2/10\n",
      "110288/110288 [==============================] - 10s 92us/step - loss: 1.8969 - acc: 0.5821 - val_loss: 1.3749 - val_acc: 0.6788\n",
      "Epoch 3/10\n",
      "110288/110288 [==============================] - 10s 92us/step - loss: 1.1175 - acc: 0.7343 - val_loss: 0.9188 - val_acc: 0.7701\n",
      "Epoch 4/10\n",
      "110288/110288 [==============================] - 10s 92us/step - loss: 0.8015 - acc: 0.7906 - val_loss: 0.6995 - val_acc: 0.8091\n",
      "Epoch 5/10\n",
      "110288/110288 [==============================] - 10s 91us/step - loss: 0.6354 - acc: 0.8223 - val_loss: 0.5733 - val_acc: 0.8367\n",
      "Epoch 6/10\n",
      "110288/110288 [==============================] - 10s 90us/step - loss: 0.5340 - acc: 0.8456 - val_loss: 0.4955 - val_acc: 0.8558\n",
      "Epoch 7/10\n",
      "110288/110288 [==============================] - 10s 90us/step - loss: 0.4645 - acc: 0.8636 - val_loss: 0.4392 - val_acc: 0.8706\n",
      "Epoch 8/10\n",
      "110288/110288 [==============================] - 10s 91us/step - loss: 0.4135 - acc: 0.8772 - val_loss: 0.3929 - val_acc: 0.8834\n",
      "Epoch 9/10\n",
      "110288/110288 [==============================] - 10s 93us/step - loss: 0.3748 - acc: 0.8878 - val_loss: 0.3651 - val_acc: 0.8897\n",
      "Epoch 10/10\n",
      "110288/110288 [==============================] - 10s 93us/step - loss: 0.3466 - acc: 0.8951 - val_loss: 0.3367 - val_acc: 0.8980\n",
      "new jersey est parfois calme en l' et il est neigeux en en avril <PAD> <PAD> <PAD> <PAD> <PAD> <PAD> <PAD>\n"
     ]
    }
   ],
   "source": [
    "def embed_model(input_shape, output_sequence_length, english_vocab_size, french_vocab_size):\n",
    "    \"\"\"\n",
    "    Build and train a RNN model using word embedding on x and y\n",
    "    :param input_shape: Tuple of input shape\n",
    "    :param output_sequence_length: Length of output sequence\n",
    "    :param english_vocab_size: Number of unique English words in the dataset\n",
    "    :param french_vocab_size: Number of unique French words in the dataset\n",
    "    :return: Keras model built, but not trained\n",
    "    \"\"\"\n",
    "    learning_rate = 1e-3\n",
    "    input_seq = Input(shape=input_shape[1:])\n",
    "    emb = Embedding(english_vocab_size, 200, input_length=output_sequence_length)(input_seq)\n",
    "    rnn = GRU(128, return_sequences=True)(emb)\n",
    "    logits = TimeDistributed(Dense(french_vocab_size))(rnn)\n",
    "    \n",
    "    model = Model(input_seq, Activation('softmax')(logits))\n",
    "    model.compile(loss=sparse_categorical_crossentropy,\n",
    "                  optimizer=Adam(learning_rate),\n",
    "                  metrics=['accuracy'])\n",
    "    return model\n",
    "tests.test_embed_model(embed_model)\n",
    "\n",
    "\n",
    "# Reshape the input\n",
    "tmp_x = pad(preproc_english_sentences, max_french_sequence_length)\n",
    "\n",
    "# Train the neural network\n",
    "embed_rnn_model = embed_model(\n",
    "    tmp_x.shape,\n",
    "    max_french_sequence_length,\n",
    "    english_vocab_size+1,\n",
    "    french_vocab_size+1)\n",
    "embed_rnn_model.fit(tmp_x, preproc_french_sentences, batch_size=1024, epochs=10, validation_split=0.2)\n",
    "\n",
    "# Print prediction(s)\n",
    "print(embed_rnn_model.predict(tmp_x[0]))\n",
    "print(logits_to_text(embed_rnn_model.predict(tmp_x[:1])[0], french_tokenizer))\n"
   ]
  },
  {
   "cell_type": "markdown",
   "metadata": {},
   "source": [
    "### Model 3: Bidirectional RNNs\n",
    "![RNN](images/bidirectional.png)\n",
    "One restriction of a RNN is that it can't see the future input, only the past.  This is where bidirectional recurrent neural networks come in.  They are able to see the future data."
   ]
  },
  {
   "cell_type": "code",
   "execution_count": 14,
   "metadata": {},
   "outputs": [
    {
     "name": "stdout",
     "output_type": "stream",
     "text": [
      "Train on 110288 samples, validate on 27573 samples\n",
      "Epoch 1/10\n",
      "110288/110288 [==============================] - 13s 116us/step - loss: 2.5655 - acc: 0.5112 - val_loss: 1.7451 - val_acc: 0.5778\n",
      "Epoch 2/10\n",
      "110288/110288 [==============================] - 12s 111us/step - loss: 1.5640 - acc: 0.5986 - val_loss: 1.4368 - val_acc: 0.6139\n",
      "Epoch 3/10\n",
      "110288/110288 [==============================] - 12s 110us/step - loss: 1.3683 - acc: 0.6238 - val_loss: 1.3089 - val_acc: 0.6369\n",
      "Epoch 4/10\n",
      "110288/110288 [==============================] - 12s 112us/step - loss: 1.2681 - acc: 0.6446 - val_loss: 1.2296 - val_acc: 0.6547\n",
      "Epoch 5/10\n",
      "110288/110288 [==============================] - 12s 112us/step - loss: 1.1992 - acc: 0.6589 - val_loss: 1.1690 - val_acc: 0.6637\n",
      "Epoch 6/10\n",
      "110288/110288 [==============================] - 12s 111us/step - loss: 1.1437 - acc: 0.6677 - val_loss: 1.1178 - val_acc: 0.6728\n",
      "Epoch 7/10\n",
      "110288/110288 [==============================] - 12s 110us/step - loss: 1.0948 - acc: 0.6776 - val_loss: 1.0734 - val_acc: 0.6826\n",
      "Epoch 8/10\n",
      "110288/110288 [==============================] - 12s 111us/step - loss: 1.0537 - acc: 0.6847 - val_loss: 1.0364 - val_acc: 0.6872\n",
      "Epoch 9/10\n",
      "110288/110288 [==============================] - 12s 112us/step - loss: 1.0182 - acc: 0.6897 - val_loss: 1.0011 - val_acc: 0.6926\n",
      "Epoch 10/10\n",
      "110288/110288 [==============================] - 13s 114us/step - loss: 0.9867 - acc: 0.6952 - val_loss: 0.9725 - val_acc: 0.6966\n",
      "new jersey est parfois calme en mois et il est est en en <PAD> <PAD> <PAD> <PAD> <PAD> <PAD> <PAD> <PAD>\n"
     ]
    }
   ],
   "source": [
    "def bd_model(input_shape, output_sequence_length, english_vocab_size, french_vocab_size):\n",
    "    \"\"\"\n",
    "    Build and train a bidirectional RNN model on x and y\n",
    "    :param input_shape: Tuple of input shape\n",
    "    :param output_sequence_length: Length of output sequence\n",
    "    :param english_vocab_size: Number of unique English words in the dataset\n",
    "    :param french_vocab_size: Number of unique French words in the dataset\n",
    "    :return: Keras model built, but not trained\n",
    "    \"\"\"\n",
    "    learning_rate = 1e-3\n",
    "    input_seq = Input(shape=input_shape[1:])\n",
    "    bd_rnn = Bidirectional(GRU(128, return_sequences=True))(input_seq)\n",
    "    logits = TimeDistributed(Dense(french_vocab_size))(bd_rnn)\n",
    "    \n",
    "    model = Model(input_seq, Activation('softmax')(logits))\n",
    "    model.compile(loss=sparse_categorical_crossentropy,\n",
    "                  optimizer=Adam(learning_rate),\n",
    "                  metrics=['accuracy'])\n",
    "    return model\n",
    "tests.test_bd_model(bd_model)\n",
    "\n",
    "# Reshaping the input to work with a basic RNN\n",
    "tmp_x = pad(preproc_english_sentences, max_french_sequence_length)\n",
    "tmp_x = tmp_x.reshape((-1, preproc_french_sentences.shape[-2], 1))\n",
    "\n",
    "# Train and Print prediction(s)\n",
    "bd_rnn_model = bd_model(\n",
    "    tmp_x.shape,\n",
    "    max_french_sequence_length,\n",
    "    english_vocab_size+1,\n",
    "    french_vocab_size+1)\n",
    "bd_rnn_model.fit(tmp_x, preproc_french_sentences, batch_size=1024, epochs=10, validation_split=0.2)\n",
    "\n",
    "# Print prediction(s)\n",
    "print(logits_to_text(bd_rnn_model.predict(tmp_x[:1])[0], french_tokenizer))"
   ]
  },
  {
   "cell_type": "markdown",
   "metadata": {},
   "source": [
    "### Model 4: Encoder-Decoder\n",
    "Time to look at encoder-decoder models.\n",
    "\n",
    "Create an encoder-decoder model in the cell below."
   ]
  },
  {
   "cell_type": "markdown",
   "metadata": {},
   "source": [
    "### Attention Mechanism and Encoder-Decoder Model Architecture\n",
    "\n",
    "The Attenention mechanism implemented below is similar to what is described in the paper \"Neural Machine Translation by Jointly Learning to Align and Translate\" written by Dzmitry Bahdanau. The Keras implementation of the encoder-decoder model shown below is inspired by the model in the project \"Neural Machine Tranlation with Attention\" from the course \"Sequence Model\" offered by deeplearning.ai. However, the model in the \"Neural Machine Translation with Attention\" project is designed for a Date/Time format converter application. We modified part of that model (adding a word embedding layer, etc) to better fit our language translation application. \n",
    "\n",
    "The diagram below shows what one \"Attention\" step does to calculate the attention variables $\\alpha^{\\langle t, t' \\rangle}$, which are used to compute the context variable $context^{\\langle t \\rangle}$ for each timestep in the output ($t=1, \\ldots, T_y$). Note: the number of time steps in encoder network = $T_x$, and the number of time steps in decoder network = $T_y$.\n",
    "\n",
    "<img src=\"images/attn_mechanism.png\" style=\"width:450;height:300px;\">\n",
    "\n",
    "<caption><center> Neural machine translation with attention</center></caption>\n",
    "\n",
    "<caption><center> Source of the figure: \"Sequence Model\", deeplearning.ai.<caption><center>"
   ]
  },
  {
   "cell_type": "markdown",
   "metadata": {},
   "source": [
    "Some notes about the architecture of our encoder-decoder model: \n",
    "\n",
    "- The first layer of the model is a word embedding layer which works well with language/text related tasks like our English/French translation application.\n",
    "\n",
    "- There are two separate LSTMs in this model. The first one is a Bi-directional LSTM which comes *before* the attention mechanism. It's for the encoder. The second LSTM is a uni-directional LSTM which comes *after* the attention mechanism. It's for the decoder. The encoder LSTM goes through $T_x$ time steps; the decoder LSTM goes through $T_y$ time steps. \n",
    "\n",
    "- The decoder LSTM passes $s^{\\langle t \\rangle}, c^{\\langle t \\rangle}$ from one time step to the next.\n",
    "\n",
    "- We use $a^{\\langle t \\rangle} = [\\overrightarrow{a}^{\\langle t \\rangle}; \\overleftarrow{a}^{\\langle t \\rangle}]$ to represent the concatenation of the activations of both the forward-direction and backward-directions of the encoder Bi-LSTM. \n",
    "\n",
    "- The above diagram uses a `RepeatVector` node to copy $s^{\\langle t-1 \\rangle}$'s value $T_x$ times, and then `Concatenation` to concatenate $s^{\\langle t-1 \\rangle}$ and $a^{\\langle t \\rangle}$ to compute a intermediate variable, which is then passed through a softmax to compute $\\alpha^{\\langle t, t' \\rangle}$ (attention weights).\n",
    "\n",
    "There are two major functions in the encoder-decoder system: `one_step_attention()` and `model()`.\n",
    "\n",
    "**1) `one_step_attention()`**: At step $t$, given all the hidden states of the Bi-LSTM ($[a^{<1>},a^{<2>}, ..., a^{<T_x>}]$) and the previous hidden state of the second LSTM ($s^{<t-1>}$), `one_step_attention()` will compute the attention weights ($[\\alpha^{<t,1>},\\alpha^{<t,2>}, ..., \\alpha^{<t,T_x>}]$) and output the context vector (see above figure for details):\n",
    "$$context^{<t>} = \\sum_{t' = 0}^{T_x} \\alpha^{<t,t'>}a^{<t'>}\\tag{1}$$ \n",
    "  \n",
    "**2) `model()`**: Implements the entire model. It starts by feeding the training data into a word embedding layer, then runs the output from the word embedding through a Bi-LSTM to get back $[a^{<1>},a^{<2>}, ..., a^{<T_x>}]$. Then, it calls `one_step_attention()` $T_y$ times (`for` loop). At each iteration of this loop, it gives the computed context vector $c^{<t>}$ to the second LSTM, and runs the output of the LSTM through a dense layer with softmax activation to generate a prediction $\\hat{y}^{<t>}$. \n",
    "\n",
    "**Note:** The function `model()` will call the layers in `one_step_attention()` $T_y$ using a for-loop, and it is important that all $T_y$ copies have the same weights. I.e., it should not re-initiaiize the weights every time. In other words, all $T_y$ steps should have shared weights. Here's how we implement layers with shareable weights in Keras:\n",
    "1. Define the layer objects (as global variables).\n",
    "2. Call these objects when propagating the input."
   ]
  },
  {
   "cell_type": "code",
   "execution_count": 3,
   "metadata": {},
   "outputs": [
    {
     "name": "stderr",
     "output_type": "stream",
     "text": [
      "Using TensorFlow backend.\n"
     ]
    }
   ],
   "source": [
    "from keras.layers import RepeatVector, Concatenate, Dot"
   ]
  },
  {
   "cell_type": "code",
   "execution_count": 12,
   "metadata": {},
   "outputs": [],
   "source": [
    "# Defined shared layers as global variables\n",
    "repeator = RepeatVector(max_english_sequence_length)\n",
    "concatenator = Concatenate(axis=-1)\n",
    "densor1 = Dense(10, activation = \"tanh\")\n",
    "densor2 = Dense(1, activation = \"relu\")\n",
    "activator = Activation('softmax', name='attention_weights')\n",
    "dotor = Dot(axes = 1)"
   ]
  },
  {
   "cell_type": "code",
   "execution_count": 13,
   "metadata": {},
   "outputs": [],
   "source": [
    "# One_step_attention\n",
    "\n",
    "def one_step_attention(a, s_prev):\n",
    "    \"\"\"\n",
    "    Performs one step of attention: Outputs a context vector computed as a dot product of the attention weights\n",
    "    \"alphas\" and the hidden states \"a\" of the Bi-LSTM.\n",
    "    \n",
    "    Arguments:\n",
    "    a -- hidden state output of the Bi-LSTM, numpy-array of shape (m, Tx, 2*n_a) - m is the number of examples, \n",
    "         Tx = time steps used in encoder network, n_a is the size of hidden units in encoder network. \n",
    "    \n",
    "    s_prev -- previous hidden state of the decoder LSTM, numpy-array of shape (m, n_s) - m is the number of examples,\n",
    "              n_s is the size of hidden units used in decoder network.\n",
    "    \n",
    "    Returns:\n",
    "    context -- context vector, input of the next decoder LSTM cell\n",
    "    \"\"\"\n",
    "\n",
    "    # Use repeator to repeat s_prev to be of shape (m, Tx, n_s) so that we can concatenate it with all hidden states \"a\".\n",
    "    s_prev = repeator(s_prev)\n",
    "    # Use concatenator to concatenate a and s_prev on the last axis.\n",
    "    concat = concatenator([a, s_prev])\n",
    "    # Use densor1 to propagate concat through a small fully-connected neural network to compute the \"intermediate energies\" variable e.\n",
    "    e = densor1(concat)\n",
    "    # Use densor2 to propagate e through a small fully-connected neural network to compute the \"energies\" variable energies.\n",
    "    energies = densor2(e)\n",
    "    # Use \"activator\" on \"energies\" to compute the attention weights \"alphas\".\n",
    "    alphas = activator(energies)\n",
    "    # Use dotor together with \"alphas\" and \"a\" to compute the context vector to be given to the next decoder LSTM-cell.\n",
    "    context = dotor([alphas, a])\n",
    "    \n",
    "    return context"
   ]
  },
  {
   "cell_type": "code",
   "execution_count": 14,
   "metadata": {},
   "outputs": [],
   "source": [
    "n_enc_hidden_units = 128 # Bi-directional LSTM for encoder network.\n",
    "n_dec_hidden_units = 256 # Uni-directional LSTM for decoder network.\n",
    "dec_lstm_cell = LSTM(n_dec_hidden_units, return_state = True)\n",
    "output_layer = Dense(french_vocab_size+1, activation='softmax')"
   ]
  },
  {
   "cell_type": "code",
   "execution_count": 15,
   "metadata": {},
   "outputs": [],
   "source": [
    "def encdec_model(input_shape, max_enc_output_len, max_dec_output_len, english_vocab_size, french_vocab_size):\n",
    "    \"\"\"\n",
    "    Build and train an encoder-decoder model on x and y\n",
    "    :param input_shape: Tuple of input shape\n",
    "    :param max_enc_output_len: Length of the output sequence in the encoder network\n",
    "    :param max_dec_output_len: Length of the output sequence in the decoder network\n",
    "    :param english_vocab_size: Number of unique English words in the dataset\n",
    "    :param french_vocab_size: Number of unique French words in the dataset\n",
    "    :return: Keras model built, but not trained\n",
    "    \"\"\"\n",
    "    learning_rate = 1e-3\n",
    "    input_seq = Input(shape=input_shape[1:])\n",
    "    s0 = Input(shape=(n_dec_hidden_units,), name='s0')\n",
    "    c0 = Input(shape=(n_dec_hidden_units,), name='c0')\n",
    "    s = s0  # Initial hidden state in decoder\n",
    "    c = c0  # Initial cell state in decoder\n",
    "    \n",
    "    outputs = []\n",
    "    \n",
    "    emb = Embedding(english_vocab_size, 300, input_length=max_enc_output_len)(input_seq)\n",
    "    enc_lstm = Bidirectional(LSTM(n_enc_hidden_units, return_sequences=True))(emb)\n",
    "    \n",
    "    for t in range(max_dec_output_len):\n",
    "        # Perform one step of the attention mechanism to get back the context vector at step t.\n",
    "        context = one_step_attention(enc_lstm, s)\n",
    "        \n",
    "        # Apply the decoder LSTM cell to the \"context\" vector.\n",
    "        # Pass initial_state = [hidden state, cell state].\n",
    "        s, _, c = dec_lstm_cell(inputs=context, initial_state = [s, c])\n",
    "        \n",
    "        # Apply Dense layer to the hidden state output of the decoder LSTM.\n",
    "        out = output_layer(s)\n",
    "        \n",
    "        # Append \"out\" to the \"outputs\" list\n",
    "        outputs.append(out)\n",
    "\n",
    "    model = Model(inputs=[input_seq, s0, c0], outputs=outputs)\n",
    "    model.compile(loss=sparse_categorical_crossentropy,\n",
    "                  optimizer=Adam(learning_rate),\n",
    "                  metrics=['accuracy'])\n",
    "    return model\n",
    "#tests.test_encdec_model(encdec_model2)\n",
    "\n",
    "# Train the final model\n",
    "encdec_rnn_model = encdec_model(\n",
    "    preproc_english_sentences.shape,\n",
    "    max_english_sequence_length,\n",
    "    max_french_sequence_length,\n",
    "    english_vocab_size+1,\n",
    "    french_vocab_size+1)"
   ]
  },
  {
   "cell_type": "markdown",
   "metadata": {},
   "source": [
    "The last step is to define all the inputs and outputs to fit the model:\n",
    "- We already have X of shape $(m, T_x)$ containing the training examples, where m is the number of examples, $T_x$ is the time steps used in encoder network.\n",
    "- We need to create `s0` and `c0` to initialize the decoder LSTM with 0s.\n",
    "- Given the `model()` we coded, we need the \"outputs\" to be a list of $T_y$ elements of shape (m, french_vocab_size+1)."
   ]
  },
  {
   "cell_type": "code",
   "execution_count": 15,
   "metadata": {},
   "outputs": [],
   "source": [
    "s0 = np.zeros((preproc_english_sentences.shape[0], n_dec_hidden_units))\n",
    "c0 = np.zeros((preproc_english_sentences.shape[0], n_dec_hidden_units))\n",
    "outputs = list(preproc_french_sentences.swapaxes(0,1)) # swap number of examples with time steps to meet our output from the model"
   ]
  },
  {
   "cell_type": "code",
   "execution_count": 17,
   "metadata": {},
   "outputs": [
    {
     "name": "stdout",
     "output_type": "stream",
     "text": [
      "Train on 110288 samples, validate on 27573 samples\n",
      "Epoch 1/20\n",
      "110288/110288 [==============================] - 58s 529us/step - loss: 55.0602 - dense_3_loss_1: 4.4653 - dense_3_loss_2: 3.9536 - dense_3_loss_3: 3.3709 - dense_3_loss_4: 4.1835 - dense_3_loss_5: 4.1753 - dense_3_loss_6: 4.2920 - dense_3_loss_7: 4.0742 - dense_3_loss_8: 3.6142 - dense_3_loss_9: 3.4437 - dense_3_loss_10: 3.0377 - dense_3_loss_11: 3.1095 - dense_3_loss_12: 3.1036 - dense_3_loss_13: 2.8320 - dense_3_loss_14: 2.4685 - dense_3_loss_15: 1.5817 - dense_3_loss_16: 0.9141 - dense_3_loss_17: 0.6236 - dense_3_loss_18: 0.4976 - dense_3_loss_19: 0.4535 - dense_3_loss_20: 0.4373 - dense_3_loss_21: 0.4284 - dense_3_acc_1: 0.0135 - dense_3_acc_2: 0.2013 - dense_3_acc_3: 0.3322 - dense_3_acc_4: 0.1063 - dense_3_acc_5: 0.0707 - dense_3_acc_6: 0.0456 - dense_3_acc_7: 0.0614 - dense_3_acc_8: 0.1526 - dense_3_acc_9: 0.1825 - dense_3_acc_10: 0.2810 - dense_3_acc_11: 0.3032 - dense_3_acc_12: 0.3341 - dense_3_acc_13: 0.4119 - dense_3_acc_14: 0.5348 - dense_3_acc_15: 0.7547 - dense_3_acc_16: 0.9055 - dense_3_acc_17: 0.9635 - dense_3_acc_18: 0.9846 - dense_3_acc_19: 0.9898 - dense_3_acc_20: 0.9905 - dense_3_acc_21: 0.9907 - val_loss: 40.2395 - val_dense_3_loss_1: 3.2946 - val_dense_3_loss_2: 2.8266 - val_dense_3_loss_3: 2.4916 - val_dense_3_loss_4: 3.3540 - val_dense_3_loss_5: 3.3077 - val_dense_3_loss_6: 3.4252 - val_dense_3_loss_7: 3.2159 - val_dense_3_loss_8: 2.7649 - val_dense_3_loss_9: 2.6276 - val_dense_3_loss_10: 2.3503 - val_dense_3_loss_11: 2.4091 - val_dense_3_loss_12: 2.3892 - val_dense_3_loss_13: 2.1387 - val_dense_3_loss_14: 1.7860 - val_dense_3_loss_15: 1.0776 - val_dense_3_loss_16: 0.4753 - val_dense_3_loss_17: 0.1760 - val_dense_3_loss_18: 0.0629 - val_dense_3_loss_19: 0.0289 - val_dense_3_loss_20: 0.0196 - val_dense_3_loss_21: 0.0177 - val_dense_3_acc_1: 0.0756 - val_dense_3_acc_2: 0.3207 - val_dense_3_acc_3: 0.3919 - val_dense_3_acc_4: 0.1426 - val_dense_3_acc_5: 0.1427 - val_dense_3_acc_6: 0.1320 - val_dense_3_acc_7: 0.1544 - val_dense_3_acc_8: 0.3654 - val_dense_3_acc_9: 0.3190 - val_dense_3_acc_10: 0.4018 - val_dense_3_acc_11: 0.4066 - val_dense_3_acc_12: 0.4748 - val_dense_3_acc_13: 0.5178 - val_dense_3_acc_14: 0.5806 - val_dense_3_acc_15: 0.7811 - val_dense_3_acc_16: 0.9208 - val_dense_3_acc_17: 0.9763 - val_dense_3_acc_18: 0.9946 - val_dense_3_acc_19: 0.9990 - val_dense_3_acc_20: 0.9999 - val_dense_3_acc_21: 0.9999\n",
      "Epoch 2/20\n",
      "110288/110288 [==============================] - 51s 460us/step - loss: 36.8636 - dense_3_loss_1: 2.6635 - dense_3_loss_2: 2.4498 - dense_3_loss_3: 2.1191 - dense_3_loss_4: 3.0569 - dense_3_loss_5: 3.0066 - dense_3_loss_6: 3.1262 - dense_3_loss_7: 2.9033 - dense_3_loss_8: 2.4953 - dense_3_loss_9: 2.4137 - dense_3_loss_10: 2.1977 - dense_3_loss_11: 2.2746 - dense_3_loss_12: 2.2946 - dense_3_loss_13: 2.1095 - dense_3_loss_14: 1.8208 - dense_3_loss_15: 1.0971 - dense_3_loss_16: 0.4940 - dense_3_loss_17: 0.2012 - dense_3_loss_18: 0.0725 - dense_3_loss_19: 0.0310 - dense_3_loss_20: 0.0198 - dense_3_loss_21: 0.0161 - dense_3_acc_1: 0.2739 - dense_3_acc_2: 0.4052 - dense_3_acc_3: 0.4460 - dense_3_acc_4: 0.1665 - dense_3_acc_5: 0.2281 - dense_3_acc_6: 0.2052 - dense_3_acc_7: 0.2228 - dense_3_acc_8: 0.3853 - dense_3_acc_9: 0.3732 - dense_3_acc_10: 0.4239 - dense_3_acc_11: 0.4192 - dense_3_acc_12: 0.4662 - dense_3_acc_13: 0.4894 - dense_3_acc_14: 0.5656 - dense_3_acc_15: 0.7664 - dense_3_acc_16: 0.9089 - dense_3_acc_17: 0.9702 - dense_3_acc_18: 0.9931 - dense_3_acc_19: 0.9991 - dense_3_acc_20: 0.9999 - dense_3_acc_21: 1.0000 - val_loss: 32.9740 - val_dense_3_loss_1: 2.2249 - val_dense_3_loss_2: 2.1135 - val_dense_3_loss_3: 1.8254 - val_dense_3_loss_4: 2.8488 - val_dense_3_loss_5: 2.7348 - val_dense_3_loss_6: 2.8137 - val_dense_3_loss_7: 2.5867 - val_dense_3_loss_8: 2.1891 - val_dense_3_loss_9: 2.1488 - val_dense_3_loss_10: 1.9467 - val_dense_3_loss_11: 2.0495 - val_dense_3_loss_12: 2.1031 - val_dense_3_loss_13: 1.9439 - val_dense_3_loss_14: 1.6678 - val_dense_3_loss_15: 1.0329 - val_dense_3_loss_16: 0.4532 - val_dense_3_loss_17: 0.1754 - val_dense_3_loss_18: 0.0622 - val_dense_3_loss_19: 0.0256 - val_dense_3_loss_20: 0.0152 - val_dense_3_loss_21: 0.0129 - val_dense_3_acc_1: 0.3312 - val_dense_3_acc_2: 0.4867 - val_dense_3_acc_3: 0.5039 - val_dense_3_acc_4: 0.2061 - val_dense_3_acc_5: 0.2475 - val_dense_3_acc_6: 0.2796 - val_dense_3_acc_7: 0.3228 - val_dense_3_acc_8: 0.4866 - val_dense_3_acc_9: 0.4274 - val_dense_3_acc_10: 0.4731 - val_dense_3_acc_11: 0.4497 - val_dense_3_acc_12: 0.4939 - val_dense_3_acc_13: 0.5377 - val_dense_3_acc_14: 0.5982 - val_dense_3_acc_15: 0.7746 - val_dense_3_acc_16: 0.9171 - val_dense_3_acc_17: 0.9756 - val_dense_3_acc_18: 0.9944 - val_dense_3_acc_19: 0.9990 - val_dense_3_acc_20: 0.9999 - val_dense_3_acc_21: 0.9999\n",
      "Epoch 3/20\n",
      "110288/110288 [==============================] - 51s 462us/step - loss: 29.5238 - dense_3_loss_1: 1.8503 - dense_3_loss_2: 1.7213 - dense_3_loss_3: 1.5998 - dense_3_loss_4: 2.6494 - dense_3_loss_5: 2.5148 - dense_3_loss_6: 2.5761 - dense_3_loss_7: 2.3065 - dense_3_loss_8: 1.9494 - dense_3_loss_9: 1.9336 - dense_3_loss_10: 1.7969 - dense_3_loss_11: 1.8936 - dense_3_loss_12: 1.9266 - dense_3_loss_13: 1.7651 - dense_3_loss_14: 1.5124 - dense_3_loss_15: 0.9016 - dense_3_loss_16: 0.3906 - dense_3_loss_17: 0.1502 - dense_3_loss_18: 0.0474 - dense_3_loss_19: 0.0171 - dense_3_loss_20: 0.0112 - dense_3_loss_21: 0.0099 - dense_3_acc_1: 0.4614 - dense_3_acc_2: 0.5805 - dense_3_acc_3: 0.5874 - dense_3_acc_4: 0.2516 - dense_3_acc_5: 0.2969 - dense_3_acc_6: 0.2799 - dense_3_acc_7: 0.4066 - dense_3_acc_8: 0.5070 - dense_3_acc_9: 0.4655 - dense_3_acc_10: 0.4987 - dense_3_acc_11: 0.4731 - dense_3_acc_12: 0.5181 - dense_3_acc_13: 0.5598 - dense_3_acc_14: 0.6111 - dense_3_acc_15: 0.7909 - dense_3_acc_16: 0.9185 - dense_3_acc_17: 0.9737 - dense_3_acc_18: 0.9943 - dense_3_acc_19: 0.9992 - dense_3_acc_20: 0.9999 - dense_3_acc_21: 1.0000 - val_loss: 26.4692 - val_dense_3_loss_1: 1.5280 - val_dense_3_loss_2: 1.4328 - val_dense_3_loss_3: 1.3980 - val_dense_3_loss_4: 2.4643 - val_dense_3_loss_5: 2.2883 - val_dense_3_loss_6: 2.3183 - val_dense_3_loss_7: 2.0621 - val_dense_3_loss_8: 1.7506 - val_dense_3_loss_9: 1.8019 - val_dense_3_loss_10: 1.6457 - val_dense_3_loss_11: 1.7378 - val_dense_3_loss_12: 1.7712 - val_dense_3_loss_13: 1.5907 - val_dense_3_loss_14: 1.3363 - val_dense_3_loss_15: 0.8006 - val_dense_3_loss_16: 0.3467 - val_dense_3_loss_17: 0.1260 - val_dense_3_loss_18: 0.0397 - val_dense_3_loss_19: 0.0144 - val_dense_3_loss_20: 0.0083 - val_dense_3_loss_21: 0.0073 - val_dense_3_acc_1: 0.5493 - val_dense_3_acc_2: 0.6573 - val_dense_3_acc_3: 0.6503 - val_dense_3_acc_4: 0.3037 - val_dense_3_acc_5: 0.3662 - val_dense_3_acc_6: 0.3254 - val_dense_3_acc_7: 0.4358 - val_dense_3_acc_8: 0.5367 - val_dense_3_acc_9: 0.4807 - val_dense_3_acc_10: 0.5325 - val_dense_3_acc_11: 0.5011 - val_dense_3_acc_12: 0.5487 - val_dense_3_acc_13: 0.6074 - val_dense_3_acc_14: 0.6395 - val_dense_3_acc_15: 0.8073 - val_dense_3_acc_16: 0.9247 - val_dense_3_acc_17: 0.9766 - val_dense_3_acc_18: 0.9946 - val_dense_3_acc_19: 0.9990 - val_dense_3_acc_20: 0.9999 - val_dense_3_acc_21: 0.9999\n",
      "Epoch 4/20\n",
      "110288/110288 [==============================] - 51s 462us/step - loss: 24.0738 - dense_3_loss_1: 1.2768 - dense_3_loss_2: 1.1758 - dense_3_loss_3: 1.1991 - dense_3_loss_4: 2.2226 - dense_3_loss_5: 2.0553 - dense_3_loss_6: 2.0957 - dense_3_loss_7: 1.8445 - dense_3_loss_8: 1.5978 - dense_3_loss_9: 1.6375 - dense_3_loss_10: 1.5468 - dense_3_loss_11: 1.6494 - dense_3_loss_12: 1.6768 - dense_3_loss_13: 1.4971 - dense_3_loss_14: 1.2743 - dense_3_loss_15: 0.7757 - dense_3_loss_16: 0.3479 - dense_3_loss_17: 0.1354 - dense_3_loss_18: 0.0408 - dense_3_loss_19: 0.0122 - dense_3_loss_20: 0.0066 - dense_3_loss_21: 0.0055 - dense_3_acc_1: 0.6353 - dense_3_acc_2: 0.7241 - dense_3_acc_3: 0.7323 - dense_3_acc_4: 0.3615 - dense_3_acc_5: 0.4422 - dense_3_acc_6: 0.3795 - dense_3_acc_7: 0.5009 - dense_3_acc_8: 0.5544 - dense_3_acc_9: 0.5113 - dense_3_acc_10: 0.5620 - dense_3_acc_11: 0.5349 - dense_3_acc_12: 0.5593 - dense_3_acc_13: 0.6094 - dense_3_acc_14: 0.6482 - dense_3_acc_15: 0.8003 - dense_3_acc_16: 0.9196 - dense_3_acc_17: 0.9738 - dense_3_acc_18: 0.9940 - dense_3_acc_19: 0.9992 - dense_3_acc_20: 0.9999 - dense_3_acc_21: 1.0000 - val_loss: 21.7645 - val_dense_3_loss_1: 1.0462 - val_dense_3_loss_2: 0.9289 - val_dense_3_loss_3: 1.0356 - val_dense_3_loss_4: 1.9866 - val_dense_3_loss_5: 1.8072 - val_dense_3_loss_6: 1.8676 - val_dense_3_loss_7: 1.6445 - val_dense_3_loss_8: 1.4535 - val_dense_3_loss_9: 1.4990 - val_dense_3_loss_10: 1.4145 - val_dense_3_loss_11: 1.5166 - val_dense_3_loss_12: 1.5479 - val_dense_3_loss_13: 1.4040 - val_dense_3_loss_14: 1.1793 - val_dense_3_loss_15: 0.8151 - val_dense_3_loss_16: 0.4092 - val_dense_3_loss_17: 0.1464 - val_dense_3_loss_18: 0.0399 - val_dense_3_loss_19: 0.0123 - val_dense_3_loss_20: 0.0057 - val_dense_3_loss_21: 0.0045 - val_dense_3_acc_1: 0.7129 - val_dense_3_acc_2: 0.7790 - val_dense_3_acc_3: 0.7680 - val_dense_3_acc_4: 0.4236 - val_dense_3_acc_5: 0.5135 - val_dense_3_acc_6: 0.4182 - val_dense_3_acc_7: 0.5417 - val_dense_3_acc_8: 0.5760 - val_dense_3_acc_9: 0.5268 - val_dense_3_acc_10: 0.5999 - val_dense_3_acc_11: 0.5549 - val_dense_3_acc_12: 0.5586 - val_dense_3_acc_13: 0.5856 - val_dense_3_acc_14: 0.6414 - val_dense_3_acc_15: 0.7620 - val_dense_3_acc_16: 0.8919 - val_dense_3_acc_17: 0.9657 - val_dense_3_acc_18: 0.9946 - val_dense_3_acc_19: 0.9990 - val_dense_3_acc_20: 0.9999 - val_dense_3_acc_21: 0.9999\n",
      "Epoch 5/20\n",
      "110288/110288 [==============================] - 51s 462us/step - loss: 18.9634 - dense_3_loss_1: 0.8094 - dense_3_loss_2: 0.7862 - dense_3_loss_3: 0.8956 - dense_3_loss_4: 1.7647 - dense_3_loss_5: 1.6456 - dense_3_loss_6: 1.6388 - dense_3_loss_7: 1.4461 - dense_3_loss_8: 1.2884 - dense_3_loss_9: 1.3202 - dense_3_loss_10: 1.2619 - dense_3_loss_11: 1.3568 - dense_3_loss_12: 1.3948 - dense_3_loss_13: 1.2260 - dense_3_loss_14: 1.0296 - dense_3_loss_15: 0.6450 - dense_3_loss_16: 0.2925 - dense_3_loss_17: 0.1126 - dense_3_loss_18: 0.0331 - dense_3_loss_19: 0.0088 - dense_3_loss_20: 0.0041 - dense_3_loss_21: 0.0031 - dense_3_acc_1: 0.7862 - dense_3_acc_2: 0.8112 - dense_3_acc_3: 0.7935 - dense_3_acc_4: 0.4726 - dense_3_acc_5: 0.5496 - dense_3_acc_6: 0.5120 - dense_3_acc_7: 0.6036 - dense_3_acc_8: 0.6290 - dense_3_acc_9: 0.5919 - dense_3_acc_10: 0.6597 - dense_3_acc_11: 0.6239 - dense_3_acc_12: 0.6134 - dense_3_acc_13: 0.6605 - dense_3_acc_14: 0.6896 - dense_3_acc_15: 0.8110 - dense_3_acc_16: 0.9228 - dense_3_acc_17: 0.9741 - dense_3_acc_18: 0.9941 - dense_3_acc_19: 0.9992 - dense_3_acc_20: 0.9999 - dense_3_acc_21: 1.0000 - val_loss: 16.8450 - val_dense_3_loss_1: 0.6459 - val_dense_3_loss_2: 0.6837 - val_dense_3_loss_3: 0.7917 - val_dense_3_loss_4: 1.6001 - val_dense_3_loss_5: 1.4861 - val_dense_3_loss_6: 1.4578 - val_dense_3_loss_7: 1.2856 - val_dense_3_loss_8: 1.1531 - val_dense_3_loss_9: 1.1814 - val_dense_3_loss_10: 1.1261 - val_dense_3_loss_11: 1.2154 - val_dense_3_loss_12: 1.2689 - val_dense_3_loss_13: 1.0961 - val_dense_3_loss_14: 0.9125 - val_dense_3_loss_15: 0.5700 - val_dense_3_loss_16: 0.2427 - val_dense_3_loss_17: 0.0885 - val_dense_3_loss_18: 0.0258 - val_dense_3_loss_19: 0.0076 - val_dense_3_loss_20: 0.0032 - val_dense_3_loss_21: 0.0026 - val_dense_3_acc_1: 0.8209 - val_dense_3_acc_2: 0.8363 - val_dense_3_acc_3: 0.8026 - val_dense_3_acc_4: 0.5228 - val_dense_3_acc_5: 0.5851 - val_dense_3_acc_6: 0.5711 - val_dense_3_acc_7: 0.6482 - val_dense_3_acc_8: 0.6807 - val_dense_3_acc_9: 0.6286 - val_dense_3_acc_10: 0.6853 - val_dense_3_acc_11: 0.6625 - val_dense_3_acc_12: 0.6252 - val_dense_3_acc_13: 0.6915 - val_dense_3_acc_14: 0.7235 - val_dense_3_acc_15: 0.8235 - val_dense_3_acc_16: 0.9298 - val_dense_3_acc_17: 0.9772 - val_dense_3_acc_18: 0.9947 - val_dense_3_acc_19: 0.9990 - val_dense_3_acc_20: 0.9999 - val_dense_3_acc_21: 1.0000\n",
      "Epoch 6/20\n",
      "110288/110288 [==============================] - 51s 462us/step - loss: 15.0876 - dense_3_loss_1: 0.5551 - dense_3_loss_2: 0.5950 - dense_3_loss_3: 0.6951 - dense_3_loss_4: 1.4356 - dense_3_loss_5: 1.3435 - dense_3_loss_6: 1.3019 - dense_3_loss_7: 1.1328 - dense_3_loss_8: 1.0294 - dense_3_loss_9: 1.0484 - dense_3_loss_10: 1.0170 - dense_3_loss_11: 1.0815 - dense_3_loss_12: 1.1193 - dense_3_loss_13: 0.9876 - dense_3_loss_14: 0.8349 - dense_3_loss_15: 0.5350 - dense_3_loss_16: 0.2425 - dense_3_loss_17: 0.0937 - dense_3_loss_18: 0.0276 - dense_3_loss_19: 0.0069 - dense_3_loss_20: 0.0030 - dense_3_loss_21: 0.0021 - dense_3_acc_1: 0.8419 - dense_3_acc_2: 0.8512 - dense_3_acc_3: 0.8229 - dense_3_acc_4: 0.5613 - dense_3_acc_5: 0.6226 - dense_3_acc_6: 0.6138 - dense_3_acc_7: 0.6933 - dense_3_acc_8: 0.7092 - dense_3_acc_9: 0.6795 - dense_3_acc_10: 0.7198 - dense_3_acc_11: 0.7001 - dense_3_acc_12: 0.6818 - dense_3_acc_13: 0.7186 - dense_3_acc_14: 0.7411 - dense_3_acc_15: 0.8345 - dense_3_acc_16: 0.9306 - dense_3_acc_17: 0.9756 - dense_3_acc_18: 0.9943 - dense_3_acc_19: 0.9992 - dense_3_acc_20: 0.9999 - dense_3_acc_21: 1.0000 - val_loss: 13.7745 - val_dense_3_loss_1: 0.4931 - val_dense_3_loss_2: 0.5325 - val_dense_3_loss_3: 0.6176 - val_dense_3_loss_4: 1.2955 - val_dense_3_loss_5: 1.2137 - val_dense_3_loss_6: 1.1651 - val_dense_3_loss_7: 1.0191 - val_dense_3_loss_8: 0.9376 - val_dense_3_loss_9: 0.9647 - val_dense_3_loss_10: 0.9244 - val_dense_3_loss_11: 0.9983 - val_dense_3_loss_12: 1.0456 - val_dense_3_loss_13: 0.9399 - val_dense_3_loss_14: 0.7814 - val_dense_3_loss_15: 0.5060 - val_dense_3_loss_16: 0.2278 - val_dense_3_loss_17: 0.0795 - val_dense_3_loss_18: 0.0222 - val_dense_3_loss_19: 0.0064 - val_dense_3_loss_20: 0.0023 - val_dense_3_loss_21: 0.0019 - val_dense_3_acc_1: 0.8559 - val_dense_3_acc_2: 0.8634 - val_dense_3_acc_3: 0.8396 - val_dense_3_acc_4: 0.6053 - val_dense_3_acc_5: 0.6591 - val_dense_3_acc_6: 0.6548 - val_dense_3_acc_7: 0.7339 - val_dense_3_acc_8: 0.7368 - val_dense_3_acc_9: 0.7170 - val_dense_3_acc_10: 0.7460 - val_dense_3_acc_11: 0.7211 - val_dense_3_acc_12: 0.7008 - val_dense_3_acc_13: 0.7096 - val_dense_3_acc_14: 0.7422 - val_dense_3_acc_15: 0.8322 - val_dense_3_acc_16: 0.9316 - val_dense_3_acc_17: 0.9779 - val_dense_3_acc_18: 0.9949 - val_dense_3_acc_19: 0.9990 - val_dense_3_acc_20: 0.9999 - val_dense_3_acc_21: 1.0000\n",
      "Epoch 7/20\n"
     ]
    },
    {
     "name": "stdout",
     "output_type": "stream",
     "text": [
      "110288/110288 [==============================] - 51s 461us/step - loss: 12.0765 - dense_3_loss_1: 0.4465 - dense_3_loss_2: 0.4792 - dense_3_loss_3: 0.5382 - dense_3_loss_4: 1.1415 - dense_3_loss_5: 1.0710 - dense_3_loss_6: 1.0406 - dense_3_loss_7: 0.8980 - dense_3_loss_8: 0.8294 - dense_3_loss_9: 0.8331 - dense_3_loss_10: 0.8212 - dense_3_loss_11: 0.8571 - dense_3_loss_12: 0.8838 - dense_3_loss_13: 0.7975 - dense_3_loss_14: 0.6783 - dense_3_loss_15: 0.4446 - dense_3_loss_16: 0.2046 - dense_3_loss_17: 0.0792 - dense_3_loss_18: 0.0232 - dense_3_loss_19: 0.0057 - dense_3_loss_20: 0.0023 - dense_3_loss_21: 0.0015 - dense_3_acc_1: 0.8700 - dense_3_acc_2: 0.8765 - dense_3_acc_3: 0.8576 - dense_3_acc_4: 0.6589 - dense_3_acc_5: 0.6992 - dense_3_acc_6: 0.6891 - dense_3_acc_7: 0.7688 - dense_3_acc_8: 0.7723 - dense_3_acc_9: 0.7710 - dense_3_acc_10: 0.7781 - dense_3_acc_11: 0.7683 - dense_3_acc_12: 0.7572 - dense_3_acc_13: 0.7765 - dense_3_acc_14: 0.7928 - dense_3_acc_15: 0.8617 - dense_3_acc_16: 0.9406 - dense_3_acc_17: 0.9782 - dense_3_acc_18: 0.9946 - dense_3_acc_19: 0.9992 - dense_3_acc_20: 0.9999 - dense_3_acc_21: 1.0000 - val_loss: 11.1373 - val_dense_3_loss_1: 0.4079 - val_dense_3_loss_2: 0.4424 - val_dense_3_loss_3: 0.4745 - val_dense_3_loss_4: 1.0098 - val_dense_3_loss_5: 0.9445 - val_dense_3_loss_6: 0.9339 - val_dense_3_loss_7: 0.8351 - val_dense_3_loss_8: 0.7571 - val_dense_3_loss_9: 0.7839 - val_dense_3_loss_10: 0.7498 - val_dense_3_loss_11: 0.7910 - val_dense_3_loss_12: 0.8301 - val_dense_3_loss_13: 0.7652 - val_dense_3_loss_14: 0.6661 - val_dense_3_loss_15: 0.4383 - val_dense_3_loss_16: 0.2009 - val_dense_3_loss_17: 0.0753 - val_dense_3_loss_18: 0.0221 - val_dense_3_loss_19: 0.0060 - val_dense_3_loss_20: 0.0019 - val_dense_3_loss_21: 0.0015 - val_dense_3_acc_1: 0.8869 - val_dense_3_acc_2: 0.8876 - val_dense_3_acc_3: 0.8752 - val_dense_3_acc_4: 0.7144 - val_dense_3_acc_5: 0.7391 - val_dense_3_acc_6: 0.7308 - val_dense_3_acc_7: 0.7857 - val_dense_3_acc_8: 0.7956 - val_dense_3_acc_9: 0.7754 - val_dense_3_acc_10: 0.7953 - val_dense_3_acc_11: 0.7854 - val_dense_3_acc_12: 0.7674 - val_dense_3_acc_13: 0.7762 - val_dense_3_acc_14: 0.7782 - val_dense_3_acc_15: 0.8503 - val_dense_3_acc_16: 0.9347 - val_dense_3_acc_17: 0.9780 - val_dense_3_acc_18: 0.9947 - val_dense_3_acc_19: 0.9990 - val_dense_3_acc_20: 0.9999 - val_dense_3_acc_21: 1.0000\n",
      "Epoch 8/20\n",
      "110288/110288 [==============================] - 51s 460us/step - loss: 9.8873 - dense_3_loss_1: 0.3709 - dense_3_loss_2: 0.4013 - dense_3_loss_3: 0.4145 - dense_3_loss_4: 0.8731 - dense_3_loss_5: 0.8344 - dense_3_loss_6: 0.8442 - dense_3_loss_7: 0.7365 - dense_3_loss_8: 0.6873 - dense_3_loss_9: 0.6883 - dense_3_loss_10: 0.6876 - dense_3_loss_11: 0.7033 - dense_3_loss_12: 0.7233 - dense_3_loss_13: 0.6711 - dense_3_loss_14: 0.5778 - dense_3_loss_15: 0.3877 - dense_3_loss_16: 0.1842 - dense_3_loss_17: 0.0729 - dense_3_loss_18: 0.0210 - dense_3_loss_19: 0.0050 - dense_3_loss_20: 0.0018 - dense_3_loss_21: 0.0011 - dense_3_acc_1: 0.8964 - dense_3_acc_2: 0.8970 - dense_3_acc_3: 0.8949 - dense_3_acc_4: 0.7626 - dense_3_acc_5: 0.7709 - dense_3_acc_6: 0.7518 - dense_3_acc_7: 0.8140 - dense_3_acc_8: 0.8153 - dense_3_acc_9: 0.8138 - dense_3_acc_10: 0.8130 - dense_3_acc_11: 0.8120 - dense_3_acc_12: 0.8050 - dense_3_acc_13: 0.8138 - dense_3_acc_14: 0.8268 - dense_3_acc_15: 0.8808 - dense_3_acc_16: 0.9452 - dense_3_acc_17: 0.9787 - dense_3_acc_18: 0.9948 - dense_3_acc_19: 0.9992 - dense_3_acc_20: 0.9999 - dense_3_acc_21: 1.0000 - val_loss: 8.8402 - val_dense_3_loss_1: 0.3313 - val_dense_3_loss_2: 0.3670 - val_dense_3_loss_3: 0.3623 - val_dense_3_loss_4: 0.7558 - val_dense_3_loss_5: 0.7197 - val_dense_3_loss_6: 0.7483 - val_dense_3_loss_7: 0.6637 - val_dense_3_loss_8: 0.6193 - val_dense_3_loss_9: 0.6188 - val_dense_3_loss_10: 0.6194 - val_dense_3_loss_11: 0.6352 - val_dense_3_loss_12: 0.6554 - val_dense_3_loss_13: 0.6063 - val_dense_3_loss_14: 0.5220 - val_dense_3_loss_15: 0.3605 - val_dense_3_loss_16: 0.1662 - val_dense_3_loss_17: 0.0609 - val_dense_3_loss_18: 0.0192 - val_dense_3_loss_19: 0.0057 - val_dense_3_loss_20: 0.0019 - val_dense_3_loss_21: 0.0014 - val_dense_3_acc_1: 0.9104 - val_dense_3_acc_2: 0.9066 - val_dense_3_acc_3: 0.9121 - val_dense_3_acc_4: 0.8109 - val_dense_3_acc_5: 0.8112 - val_dense_3_acc_6: 0.7900 - val_dense_3_acc_7: 0.8341 - val_dense_3_acc_8: 0.8420 - val_dense_3_acc_9: 0.8415 - val_dense_3_acc_10: 0.8326 - val_dense_3_acc_11: 0.8318 - val_dense_3_acc_12: 0.8245 - val_dense_3_acc_13: 0.8347 - val_dense_3_acc_14: 0.8396 - val_dense_3_acc_15: 0.8935 - val_dense_3_acc_16: 0.9517 - val_dense_3_acc_17: 0.9826 - val_dense_3_acc_18: 0.9954 - val_dense_3_acc_19: 0.9990 - val_dense_3_acc_20: 0.9999 - val_dense_3_acc_21: 1.0000\n",
      "Epoch 9/20\n",
      "110288/110288 [==============================] - 51s 462us/step - loss: 8.1319 - dense_3_loss_1: 0.2978 - dense_3_loss_2: 0.3347 - dense_3_loss_3: 0.3290 - dense_3_loss_4: 0.6637 - dense_3_loss_5: 0.6579 - dense_3_loss_6: 0.6936 - dense_3_loss_7: 0.6130 - dense_3_loss_8: 0.5753 - dense_3_loss_9: 0.5742 - dense_3_loss_10: 0.5765 - dense_3_loss_11: 0.5851 - dense_3_loss_12: 0.6001 - dense_3_loss_13: 0.5634 - dense_3_loss_14: 0.4845 - dense_3_loss_15: 0.3302 - dense_3_loss_16: 0.1633 - dense_3_loss_17: 0.0640 - dense_3_loss_18: 0.0188 - dense_3_loss_19: 0.0043 - dense_3_loss_20: 0.0015 - dense_3_loss_21: 8.9371e-04 - dense_3_acc_1: 0.9237 - dense_3_acc_2: 0.9188 - dense_3_acc_3: 0.9181 - dense_3_acc_4: 0.8324 - dense_3_acc_5: 0.8230 - dense_3_acc_6: 0.8001 - dense_3_acc_7: 0.8458 - dense_3_acc_8: 0.8474 - dense_3_acc_9: 0.8481 - dense_3_acc_10: 0.8435 - dense_3_acc_11: 0.8460 - dense_3_acc_12: 0.8428 - dense_3_acc_13: 0.8460 - dense_3_acc_14: 0.8602 - dense_3_acc_15: 0.9012 - dense_3_acc_16: 0.9513 - dense_3_acc_17: 0.9811 - dense_3_acc_18: 0.9950 - dense_3_acc_19: 0.9993 - dense_3_acc_20: 0.9999 - dense_3_acc_21: 1.0000 - val_loss: 7.5822 - val_dense_3_loss_1: 0.2678 - val_dense_3_loss_2: 0.3089 - val_dense_3_loss_3: 0.3010 - val_dense_3_loss_4: 0.6047 - val_dense_3_loss_5: 0.6011 - val_dense_3_loss_6: 0.6359 - val_dense_3_loss_7: 0.5778 - val_dense_3_loss_8: 0.5471 - val_dense_3_loss_9: 0.5428 - val_dense_3_loss_10: 0.5457 - val_dense_3_loss_11: 0.5567 - val_dense_3_loss_12: 0.5688 - val_dense_3_loss_13: 0.5291 - val_dense_3_loss_14: 0.4582 - val_dense_3_loss_15: 0.3121 - val_dense_3_loss_16: 0.1437 - val_dense_3_loss_17: 0.0544 - val_dense_3_loss_18: 0.0178 - val_dense_3_loss_19: 0.0053 - val_dense_3_loss_20: 0.0019 - val_dense_3_loss_21: 0.0012 - val_dense_3_acc_1: 0.9375 - val_dense_3_acc_2: 0.9256 - val_dense_3_acc_3: 0.9262 - val_dense_3_acc_4: 0.8452 - val_dense_3_acc_5: 0.8363 - val_dense_3_acc_6: 0.8213 - val_dense_3_acc_7: 0.8557 - val_dense_3_acc_8: 0.8536 - val_dense_3_acc_9: 0.8567 - val_dense_3_acc_10: 0.8536 - val_dense_3_acc_11: 0.8495 - val_dense_3_acc_12: 0.8479 - val_dense_3_acc_13: 0.8478 - val_dense_3_acc_14: 0.8664 - val_dense_3_acc_15: 0.8942 - val_dense_3_acc_16: 0.9564 - val_dense_3_acc_17: 0.9840 - val_dense_3_acc_18: 0.9955 - val_dense_3_acc_19: 0.9991 - val_dense_3_acc_20: 0.9999 - val_dense_3_acc_21: 1.0000\n",
      "Epoch 10/20\n",
      "110288/110288 [==============================] - 51s 462us/step - loss: 6.9217 - dense_3_loss_1: 0.2361 - dense_3_loss_2: 0.2728 - dense_3_loss_3: 0.2740 - dense_3_loss_4: 0.5309 - dense_3_loss_5: 0.5481 - dense_3_loss_6: 0.5909 - dense_3_loss_7: 0.5234 - dense_3_loss_8: 0.4964 - dense_3_loss_9: 0.4972 - dense_3_loss_10: 0.5015 - dense_3_loss_11: 0.5061 - dense_3_loss_12: 0.5172 - dense_3_loss_13: 0.4906 - dense_3_loss_14: 0.4186 - dense_3_loss_15: 0.2896 - dense_3_loss_16: 0.1460 - dense_3_loss_17: 0.0587 - dense_3_loss_18: 0.0174 - dense_3_loss_19: 0.0040 - dense_3_loss_20: 0.0013 - dense_3_loss_21: 7.1810e-04 - dense_3_acc_1: 0.9504 - dense_3_acc_2: 0.9405 - dense_3_acc_3: 0.9326 - dense_3_acc_4: 0.8646 - dense_3_acc_5: 0.8497 - dense_3_acc_6: 0.8280 - dense_3_acc_7: 0.8667 - dense_3_acc_8: 0.8670 - dense_3_acc_9: 0.8653 - dense_3_acc_10: 0.8637 - dense_3_acc_11: 0.8662 - dense_3_acc_12: 0.8641 - dense_3_acc_13: 0.8660 - dense_3_acc_14: 0.8810 - dense_3_acc_15: 0.9150 - dense_3_acc_16: 0.9558 - dense_3_acc_17: 0.9819 - dense_3_acc_18: 0.9951 - dense_3_acc_19: 0.9993 - dense_3_acc_20: 0.9999 - dense_3_acc_21: 1.0000 - val_loss: 6.3894 - val_dense_3_loss_1: 0.2098 - val_dense_3_loss_2: 0.2422 - val_dense_3_loss_3: 0.2523 - val_dense_3_loss_4: 0.4926 - val_dense_3_loss_5: 0.4998 - val_dense_3_loss_6: 0.5432 - val_dense_3_loss_7: 0.4799 - val_dense_3_loss_8: 0.4687 - val_dense_3_loss_9: 0.4695 - val_dense_3_loss_10: 0.4663 - val_dense_3_loss_11: 0.4709 - val_dense_3_loss_12: 0.4830 - val_dense_3_loss_13: 0.4461 - val_dense_3_loss_14: 0.3838 - val_dense_3_loss_15: 0.2708 - val_dense_3_loss_16: 0.1378 - val_dense_3_loss_17: 0.0503 - val_dense_3_loss_18: 0.0154 - val_dense_3_loss_19: 0.0045 - val_dense_3_loss_20: 0.0014 - val_dense_3_loss_21: 0.0010 - val_dense_3_acc_1: 0.9595 - val_dense_3_acc_2: 0.9501 - val_dense_3_acc_3: 0.9383 - val_dense_3_acc_4: 0.8722 - val_dense_3_acc_5: 0.8648 - val_dense_3_acc_6: 0.8438 - val_dense_3_acc_7: 0.8794 - val_dense_3_acc_8: 0.8780 - val_dense_3_acc_9: 0.8770 - val_dense_3_acc_10: 0.8780 - val_dense_3_acc_11: 0.8769 - val_dense_3_acc_12: 0.8763 - val_dense_3_acc_13: 0.8810 - val_dense_3_acc_14: 0.8953 - val_dense_3_acc_15: 0.9236 - val_dense_3_acc_16: 0.9582 - val_dense_3_acc_17: 0.9846 - val_dense_3_acc_18: 0.9959 - val_dense_3_acc_19: 0.9991 - val_dense_3_acc_20: 0.9999 - val_dense_3_acc_21: 1.0000\n",
      "Epoch 11/20\n",
      "110288/110288 [==============================] - 51s 461us/step - loss: 5.8911 - dense_3_loss_1: 0.1898 - dense_3_loss_2: 0.2183 - dense_3_loss_3: 0.2329 - dense_3_loss_4: 0.4415 - dense_3_loss_5: 0.4699 - dense_3_loss_6: 0.5070 - dense_3_loss_7: 0.4449 - dense_3_loss_8: 0.4241 - dense_3_loss_9: 0.4250 - dense_3_loss_10: 0.4277 - dense_3_loss_11: 0.4348 - dense_3_loss_12: 0.4452 - dense_3_loss_13: 0.4224 - dense_3_loss_14: 0.3589 - dense_3_loss_15: 0.2491 - dense_3_loss_16: 0.1266 - dense_3_loss_17: 0.0522 - dense_3_loss_18: 0.0158 - dense_3_loss_19: 0.0036 - dense_3_loss_20: 0.0011 - dense_3_loss_21: 5.7635e-04 - dense_3_acc_1: 0.9624 - dense_3_acc_2: 0.9559 - dense_3_acc_3: 0.9430 - dense_3_acc_4: 0.8827 - dense_3_acc_5: 0.8690 - dense_3_acc_6: 0.8547 - dense_3_acc_7: 0.8863 - dense_3_acc_8: 0.8868 - dense_3_acc_9: 0.8865 - dense_3_acc_10: 0.8873 - dense_3_acc_11: 0.8879 - dense_3_acc_12: 0.8848 - dense_3_acc_13: 0.8862 - dense_3_acc_14: 0.9009 - dense_3_acc_15: 0.9287 - dense_3_acc_16: 0.9619 - dense_3_acc_17: 0.9840 - dense_3_acc_18: 0.9955 - dense_3_acc_19: 0.9993 - dense_3_acc_20: 0.9999 - dense_3_acc_21: 1.0000 - val_loss: 5.6860 - val_dense_3_loss_1: 0.1753 - val_dense_3_loss_2: 0.2033 - val_dense_3_loss_3: 0.2203 - val_dense_3_loss_4: 0.4254 - val_dense_3_loss_5: 0.4511 - val_dense_3_loss_6: 0.4906 - val_dense_3_loss_7: 0.4417 - val_dense_3_loss_8: 0.4221 - val_dense_3_loss_9: 0.4286 - val_dense_3_loss_10: 0.4094 - val_dense_3_loss_11: 0.4123 - val_dense_3_loss_12: 0.4317 - val_dense_3_loss_13: 0.4007 - val_dense_3_loss_14: 0.3491 - val_dense_3_loss_15: 0.2368 - val_dense_3_loss_16: 0.1208 - val_dense_3_loss_17: 0.0468 - val_dense_3_loss_18: 0.0135 - val_dense_3_loss_19: 0.0042 - val_dense_3_loss_20: 0.0012 - val_dense_3_loss_21: 9.1853e-04 - val_dense_3_acc_1: 0.9667 - val_dense_3_acc_2: 0.9597 - val_dense_3_acc_3: 0.9451 - val_dense_3_acc_4: 0.8869 - val_dense_3_acc_5: 0.8718 - val_dense_3_acc_6: 0.8587 - val_dense_3_acc_7: 0.8809 - val_dense_3_acc_8: 0.8789 - val_dense_3_acc_9: 0.8809 - val_dense_3_acc_10: 0.8878 - val_dense_3_acc_11: 0.8897 - val_dense_3_acc_12: 0.8886 - val_dense_3_acc_13: 0.8922 - val_dense_3_acc_14: 0.9038 - val_dense_3_acc_15: 0.9336 - val_dense_3_acc_16: 0.9639 - val_dense_3_acc_17: 0.9861 - val_dense_3_acc_18: 0.9963 - val_dense_3_acc_19: 0.9991 - val_dense_3_acc_20: 0.9999 - val_dense_3_acc_21: 0.9999\n",
      "Epoch 12/20\n",
      "110288/110288 [==============================] - 51s 461us/step - loss: 5.4987 - dense_3_loss_1: 0.1638 - dense_3_loss_2: 0.1867 - dense_3_loss_3: 0.2087 - dense_3_loss_4: 0.3917 - dense_3_loss_5: 0.4254 - dense_3_loss_6: 0.4607 - dense_3_loss_7: 0.4088 - dense_3_loss_8: 0.3941 - dense_3_loss_9: 0.3975 - dense_3_loss_10: 0.4026 - dense_3_loss_11: 0.4117 - dense_3_loss_12: 0.4254 - dense_3_loss_13: 0.4125 - dense_3_loss_14: 0.3554 - dense_3_loss_15: 0.2518 - dense_3_loss_16: 0.1289 - dense_3_loss_17: 0.0517 - dense_3_loss_18: 0.0160 - dense_3_loss_19: 0.0036 - dense_3_loss_20: 0.0010 - dense_3_loss_21: 5.1264e-04 - dense_3_acc_1: 0.9673 - dense_3_acc_2: 0.9613 - dense_3_acc_3: 0.9484 - dense_3_acc_4: 0.8941 - dense_3_acc_5: 0.8795 - dense_3_acc_6: 0.8672 - dense_3_acc_7: 0.8917 - dense_3_acc_8: 0.8914 - dense_3_acc_9: 0.8908 - dense_3_acc_10: 0.8904 - dense_3_acc_11: 0.8903 - dense_3_acc_12: 0.8853 - dense_3_acc_13: 0.8834 - dense_3_acc_14: 0.8970 - dense_3_acc_15: 0.9234 - dense_3_acc_16: 0.9595 - dense_3_acc_17: 0.9834 - dense_3_acc_18: 0.9952 - dense_3_acc_19: 0.9992 - dense_3_acc_20: 0.9999 - dense_3_acc_21: 1.0000 - val_loss: 5.2668 - val_dense_3_loss_1: 0.1515 - val_dense_3_loss_2: 0.1731 - val_dense_3_loss_3: 0.1962 - val_dense_3_loss_4: 0.3816 - val_dense_3_loss_5: 0.4038 - val_dense_3_loss_6: 0.4454 - val_dense_3_loss_7: 0.3999 - val_dense_3_loss_8: 0.3941 - val_dense_3_loss_9: 0.4237 - val_dense_3_loss_10: 0.3860 - val_dense_3_loss_11: 0.3873 - val_dense_3_loss_12: 0.4020 - val_dense_3_loss_13: 0.3795 - val_dense_3_loss_14: 0.3274 - val_dense_3_loss_15: 0.2308 - val_dense_3_loss_16: 0.1195 - val_dense_3_loss_17: 0.0447 - val_dense_3_loss_18: 0.0143 - val_dense_3_loss_19: 0.0041 - val_dense_3_loss_20: 0.0010 - val_dense_3_loss_21: 8.9223e-04 - val_dense_3_acc_1: 0.9699 - val_dense_3_acc_2: 0.9643 - val_dense_3_acc_3: 0.9516 - val_dense_3_acc_4: 0.8994 - val_dense_3_acc_5: 0.8906 - val_dense_3_acc_6: 0.8748 - val_dense_3_acc_7: 0.8925 - val_dense_3_acc_8: 0.8897 - val_dense_3_acc_9: 0.8683 - val_dense_3_acc_10: 0.8903 - val_dense_3_acc_11: 0.8969 - val_dense_3_acc_12: 0.8948 - val_dense_3_acc_13: 0.8978 - val_dense_3_acc_14: 0.9110 - val_dense_3_acc_15: 0.9348 - val_dense_3_acc_16: 0.9634 - val_dense_3_acc_17: 0.9860 - val_dense_3_acc_18: 0.9958 - val_dense_3_acc_19: 0.9990 - val_dense_3_acc_20: 0.9999 - val_dense_3_acc_21: 0.9999\n",
      "Epoch 13/20\n"
     ]
    },
    {
     "name": "stdout",
     "output_type": "stream",
     "text": [
      "110288/110288 [==============================] - 51s 461us/step - loss: 4.6861 - dense_3_loss_1: 0.1413 - dense_3_loss_2: 0.1586 - dense_3_loss_3: 0.1828 - dense_3_loss_4: 0.3391 - dense_3_loss_5: 0.3736 - dense_3_loss_6: 0.4012 - dense_3_loss_7: 0.3553 - dense_3_loss_8: 0.3418 - dense_3_loss_9: 0.3413 - dense_3_loss_10: 0.3424 - dense_3_loss_11: 0.3478 - dense_3_loss_12: 0.3563 - dense_3_loss_13: 0.3408 - dense_3_loss_14: 0.2890 - dense_3_loss_15: 0.2050 - dense_3_loss_16: 0.1065 - dense_3_loss_17: 0.0450 - dense_3_loss_18: 0.0139 - dense_3_loss_19: 0.0031 - dense_3_loss_20: 8.5591e-04 - dense_3_loss_21: 4.0734e-04 - dense_3_acc_1: 0.9707 - dense_3_acc_2: 0.9656 - dense_3_acc_3: 0.9557 - dense_3_acc_4: 0.9087 - dense_3_acc_5: 0.8976 - dense_3_acc_6: 0.8880 - dense_3_acc_7: 0.9065 - dense_3_acc_8: 0.9064 - dense_3_acc_9: 0.9066 - dense_3_acc_10: 0.9114 - dense_3_acc_11: 0.9113 - dense_3_acc_12: 0.9090 - dense_3_acc_13: 0.9088 - dense_3_acc_14: 0.9219 - dense_3_acc_15: 0.9426 - dense_3_acc_16: 0.9677 - dense_3_acc_17: 0.9857 - dense_3_acc_18: 0.9960 - dense_3_acc_19: 0.9993 - dense_3_acc_20: 0.9999 - dense_3_acc_21: 1.0000 - val_loss: 4.6954 - val_dense_3_loss_1: 0.1349 - val_dense_3_loss_2: 0.1549 - val_dense_3_loss_3: 0.1755 - val_dense_3_loss_4: 0.3372 - val_dense_3_loss_5: 0.3648 - val_dense_3_loss_6: 0.3895 - val_dense_3_loss_7: 0.3506 - val_dense_3_loss_8: 0.3402 - val_dense_3_loss_9: 0.3498 - val_dense_3_loss_10: 0.3414 - val_dense_3_loss_11: 0.3577 - val_dense_3_loss_12: 0.3732 - val_dense_3_loss_13: 0.3468 - val_dense_3_loss_14: 0.2961 - val_dense_3_loss_15: 0.2088 - val_dense_3_loss_16: 0.1085 - val_dense_3_loss_17: 0.0438 - val_dense_3_loss_18: 0.0146 - val_dense_3_loss_19: 0.0046 - val_dense_3_loss_20: 0.0014 - val_dense_3_loss_21: 9.3152e-04 - val_dense_3_acc_1: 0.9709 - val_dense_3_acc_2: 0.9640 - val_dense_3_acc_3: 0.9554 - val_dense_3_acc_4: 0.9089 - val_dense_3_acc_5: 0.8993 - val_dense_3_acc_6: 0.8918 - val_dense_3_acc_7: 0.9041 - val_dense_3_acc_8: 0.9056 - val_dense_3_acc_9: 0.9044 - val_dense_3_acc_10: 0.9100 - val_dense_3_acc_11: 0.9056 - val_dense_3_acc_12: 0.9024 - val_dense_3_acc_13: 0.9054 - val_dense_3_acc_14: 0.9177 - val_dense_3_acc_15: 0.9403 - val_dense_3_acc_16: 0.9661 - val_dense_3_acc_17: 0.9859 - val_dense_3_acc_18: 0.9960 - val_dense_3_acc_19: 0.9990 - val_dense_3_acc_20: 0.9999 - val_dense_3_acc_21: 0.9999\n",
      "Epoch 14/20\n",
      "110288/110288 [==============================] - 51s 460us/step - loss: 4.2591 - dense_3_loss_1: 0.1256 - dense_3_loss_2: 0.1415 - dense_3_loss_3: 0.1656 - dense_3_loss_4: 0.3077 - dense_3_loss_5: 0.3415 - dense_3_loss_6: 0.3634 - dense_3_loss_7: 0.3231 - dense_3_loss_8: 0.3102 - dense_3_loss_9: 0.3060 - dense_3_loss_10: 0.3061 - dense_3_loss_11: 0.3157 - dense_3_loss_12: 0.3257 - dense_3_loss_13: 0.3125 - dense_3_loss_14: 0.2653 - dense_3_loss_15: 0.1897 - dense_3_loss_16: 0.0999 - dense_3_loss_17: 0.0422 - dense_3_loss_18: 0.0134 - dense_3_loss_19: 0.0030 - dense_3_loss_20: 7.5246e-04 - dense_3_loss_21: 3.5197e-04 - dense_3_acc_1: 0.9721 - dense_3_acc_2: 0.9682 - dense_3_acc_3: 0.9592 - dense_3_acc_4: 0.9177 - dense_3_acc_5: 0.9056 - dense_3_acc_6: 0.8990 - dense_3_acc_7: 0.9122 - dense_3_acc_8: 0.9138 - dense_3_acc_9: 0.9173 - dense_3_acc_10: 0.9206 - dense_3_acc_11: 0.9197 - dense_3_acc_12: 0.9160 - dense_3_acc_13: 0.9170 - dense_3_acc_14: 0.9270 - dense_3_acc_15: 0.9459 - dense_3_acc_16: 0.9696 - dense_3_acc_17: 0.9864 - dense_3_acc_18: 0.9960 - dense_3_acc_19: 0.9993 - dense_3_acc_20: 0.9999 - dense_3_acc_21: 1.0000 - val_loss: 4.2787 - val_dense_3_loss_1: 0.1210 - val_dense_3_loss_2: 0.1374 - val_dense_3_loss_3: 0.1630 - val_dense_3_loss_4: 0.3078 - val_dense_3_loss_5: 0.3413 - val_dense_3_loss_6: 0.3578 - val_dense_3_loss_7: 0.3281 - val_dense_3_loss_8: 0.3147 - val_dense_3_loss_9: 0.3173 - val_dense_3_loss_10: 0.3022 - val_dense_3_loss_11: 0.3155 - val_dense_3_loss_12: 0.3343 - val_dense_3_loss_13: 0.3150 - val_dense_3_loss_14: 0.2749 - val_dense_3_loss_15: 0.1928 - val_dense_3_loss_16: 0.0968 - val_dense_3_loss_17: 0.0386 - val_dense_3_loss_18: 0.0137 - val_dense_3_loss_19: 0.0043 - val_dense_3_loss_20: 0.0013 - val_dense_3_loss_21: 8.7629e-04 - val_dense_3_acc_1: 0.9731 - val_dense_3_acc_2: 0.9690 - val_dense_3_acc_3: 0.9573 - val_dense_3_acc_4: 0.9151 - val_dense_3_acc_5: 0.9061 - val_dense_3_acc_6: 0.8977 - val_dense_3_acc_7: 0.9089 - val_dense_3_acc_8: 0.9089 - val_dense_3_acc_9: 0.9117 - val_dense_3_acc_10: 0.9203 - val_dense_3_acc_11: 0.9166 - val_dense_3_acc_12: 0.9122 - val_dense_3_acc_13: 0.9137 - val_dense_3_acc_14: 0.9240 - val_dense_3_acc_15: 0.9432 - val_dense_3_acc_16: 0.9700 - val_dense_3_acc_17: 0.9878 - val_dense_3_acc_18: 0.9963 - val_dense_3_acc_19: 0.9991 - val_dense_3_acc_20: 0.9999 - val_dense_3_acc_21: 0.9999\n",
      "Epoch 15/20\n",
      "110288/110288 [==============================] - 51s 460us/step - loss: 3.8474 - dense_3_loss_1: 0.1125 - dense_3_loss_2: 0.1267 - dense_3_loss_3: 0.1495 - dense_3_loss_4: 0.2774 - dense_3_loss_5: 0.3099 - dense_3_loss_6: 0.3268 - dense_3_loss_7: 0.2913 - dense_3_loss_8: 0.2809 - dense_3_loss_9: 0.2762 - dense_3_loss_10: 0.2747 - dense_3_loss_11: 0.2831 - dense_3_loss_12: 0.2929 - dense_3_loss_13: 0.2831 - dense_3_loss_14: 0.2407 - dense_3_loss_15: 0.1740 - dense_3_loss_16: 0.0918 - dense_3_loss_17: 0.0396 - dense_3_loss_18: 0.0124 - dense_3_loss_19: 0.0028 - dense_3_loss_20: 7.2262e-04 - dense_3_loss_21: 3.0465e-04 - dense_3_acc_1: 0.9747 - dense_3_acc_2: 0.9705 - dense_3_acc_3: 0.9624 - dense_3_acc_4: 0.9256 - dense_3_acc_5: 0.9164 - dense_3_acc_6: 0.9091 - dense_3_acc_7: 0.9204 - dense_3_acc_8: 0.9214 - dense_3_acc_9: 0.9243 - dense_3_acc_10: 0.9294 - dense_3_acc_11: 0.9295 - dense_3_acc_12: 0.9254 - dense_3_acc_13: 0.9251 - dense_3_acc_14: 0.9339 - dense_3_acc_15: 0.9500 - dense_3_acc_16: 0.9717 - dense_3_acc_17: 0.9873 - dense_3_acc_18: 0.9963 - dense_3_acc_19: 0.9993 - dense_3_acc_20: 0.9999 - dense_3_acc_21: 1.0000 - val_loss: 3.8685 - val_dense_3_loss_1: 0.1110 - val_dense_3_loss_2: 0.1231 - val_dense_3_loss_3: 0.1461 - val_dense_3_loss_4: 0.2768 - val_dense_3_loss_5: 0.3110 - val_dense_3_loss_6: 0.3281 - val_dense_3_loss_7: 0.2921 - val_dense_3_loss_8: 0.2849 - val_dense_3_loss_9: 0.2836 - val_dense_3_loss_10: 0.2774 - val_dense_3_loss_11: 0.2896 - val_dense_3_loss_12: 0.3011 - val_dense_3_loss_13: 0.2819 - val_dense_3_loss_14: 0.2445 - val_dense_3_loss_15: 0.1733 - val_dense_3_loss_16: 0.0894 - val_dense_3_loss_17: 0.0368 - val_dense_3_loss_18: 0.0124 - val_dense_3_loss_19: 0.0038 - val_dense_3_loss_20: 9.6199e-04 - val_dense_3_loss_21: 8.2427e-04 - val_dense_3_acc_1: 0.9755 - val_dense_3_acc_2: 0.9721 - val_dense_3_acc_3: 0.9651 - val_dense_3_acc_4: 0.9258 - val_dense_3_acc_5: 0.9134 - val_dense_3_acc_6: 0.9056 - val_dense_3_acc_7: 0.9184 - val_dense_3_acc_8: 0.9203 - val_dense_3_acc_9: 0.9231 - val_dense_3_acc_10: 0.9298 - val_dense_3_acc_11: 0.9274 - val_dense_3_acc_12: 0.9244 - val_dense_3_acc_13: 0.9246 - val_dense_3_acc_14: 0.9327 - val_dense_3_acc_15: 0.9513 - val_dense_3_acc_16: 0.9713 - val_dense_3_acc_17: 0.9880 - val_dense_3_acc_18: 0.9962 - val_dense_3_acc_19: 0.9990 - val_dense_3_acc_20: 0.9999 - val_dense_3_acc_21: 0.9999\n",
      "Epoch 16/20\n",
      "110288/110288 [==============================] - 51s 461us/step - loss: 3.5380 - dense_3_loss_1: 0.1031 - dense_3_loss_2: 0.1161 - dense_3_loss_3: 0.1390 - dense_3_loss_4: 0.2569 - dense_3_loss_5: 0.2881 - dense_3_loss_6: 0.3012 - dense_3_loss_7: 0.2701 - dense_3_loss_8: 0.2587 - dense_3_loss_9: 0.2545 - dense_3_loss_10: 0.2492 - dense_3_loss_11: 0.2583 - dense_3_loss_12: 0.2671 - dense_3_loss_13: 0.2585 - dense_3_loss_14: 0.2206 - dense_3_loss_15: 0.1601 - dense_3_loss_16: 0.0854 - dense_3_loss_17: 0.0359 - dense_3_loss_18: 0.0116 - dense_3_loss_19: 0.0029 - dense_3_loss_20: 6.6844e-04 - dense_3_loss_21: 2.7225e-04 - dense_3_acc_1: 0.9762 - dense_3_acc_2: 0.9720 - dense_3_acc_3: 0.9651 - dense_3_acc_4: 0.9327 - dense_3_acc_5: 0.9218 - dense_3_acc_6: 0.9173 - dense_3_acc_7: 0.9248 - dense_3_acc_8: 0.9270 - dense_3_acc_9: 0.9294 - dense_3_acc_10: 0.9363 - dense_3_acc_11: 0.9349 - dense_3_acc_12: 0.9319 - dense_3_acc_13: 0.9318 - dense_3_acc_14: 0.9396 - dense_3_acc_15: 0.9546 - dense_3_acc_16: 0.9737 - dense_3_acc_17: 0.9881 - dense_3_acc_18: 0.9965 - dense_3_acc_19: 0.9993 - dense_3_acc_20: 0.9999 - dense_3_acc_21: 1.0000 - val_loss: 3.8415 - val_dense_3_loss_1: 0.1019 - val_dense_3_loss_2: 0.1162 - val_dense_3_loss_3: 0.1454 - val_dense_3_loss_4: 0.2695 - val_dense_3_loss_5: 0.3021 - val_dense_3_loss_6: 0.3190 - val_dense_3_loss_7: 0.2959 - val_dense_3_loss_8: 0.2873 - val_dense_3_loss_9: 0.2877 - val_dense_3_loss_10: 0.2703 - val_dense_3_loss_11: 0.2776 - val_dense_3_loss_12: 0.2929 - val_dense_3_loss_13: 0.2907 - val_dense_3_loss_14: 0.2547 - val_dense_3_loss_15: 0.1757 - val_dense_3_loss_16: 0.0947 - val_dense_3_loss_17: 0.0408 - val_dense_3_loss_18: 0.0139 - val_dense_3_loss_19: 0.0037 - val_dense_3_loss_20: 8.1301e-04 - val_dense_3_loss_21: 7.8685e-04 - val_dense_3_acc_1: 0.9764 - val_dense_3_acc_2: 0.9718 - val_dense_3_acc_3: 0.9625 - val_dense_3_acc_4: 0.9278 - val_dense_3_acc_5: 0.9132 - val_dense_3_acc_6: 0.9090 - val_dense_3_acc_7: 0.9122 - val_dense_3_acc_8: 0.9136 - val_dense_3_acc_9: 0.9184 - val_dense_3_acc_10: 0.9279 - val_dense_3_acc_11: 0.9262 - val_dense_3_acc_12: 0.9259 - val_dense_3_acc_13: 0.9210 - val_dense_3_acc_14: 0.9278 - val_dense_3_acc_15: 0.9489 - val_dense_3_acc_16: 0.9713 - val_dense_3_acc_17: 0.9875 - val_dense_3_acc_18: 0.9962 - val_dense_3_acc_19: 0.9990 - val_dense_3_acc_20: 0.9999 - val_dense_3_acc_21: 0.9999\n",
      "Epoch 17/20\n",
      "110288/110288 [==============================] - 51s 461us/step - loss: 3.3552 - dense_3_loss_1: 0.0954 - dense_3_loss_2: 0.1074 - dense_3_loss_3: 0.1296 - dense_3_loss_4: 0.2405 - dense_3_loss_5: 0.2717 - dense_3_loss_6: 0.2814 - dense_3_loss_7: 0.2557 - dense_3_loss_8: 0.2456 - dense_3_loss_9: 0.2405 - dense_3_loss_10: 0.2353 - dense_3_loss_11: 0.2455 - dense_3_loss_12: 0.2553 - dense_3_loss_13: 0.2480 - dense_3_loss_14: 0.2127 - dense_3_loss_15: 0.1556 - dense_3_loss_16: 0.0829 - dense_3_loss_17: 0.0360 - dense_3_loss_18: 0.0122 - dense_3_loss_19: 0.0028 - dense_3_loss_20: 6.4581e-04 - dense_3_loss_21: 2.6284e-04 - dense_3_acc_1: 0.9771 - dense_3_acc_2: 0.9743 - dense_3_acc_3: 0.9675 - dense_3_acc_4: 0.9374 - dense_3_acc_5: 0.9255 - dense_3_acc_6: 0.9218 - dense_3_acc_7: 0.9283 - dense_3_acc_8: 0.9295 - dense_3_acc_9: 0.9334 - dense_3_acc_10: 0.9387 - dense_3_acc_11: 0.9382 - dense_3_acc_12: 0.9340 - dense_3_acc_13: 0.9336 - dense_3_acc_14: 0.9414 - dense_3_acc_15: 0.9550 - dense_3_acc_16: 0.9742 - dense_3_acc_17: 0.9885 - dense_3_acc_18: 0.9962 - dense_3_acc_19: 0.9993 - dense_3_acc_20: 0.9999 - dense_3_acc_21: 1.0000 - val_loss: 4.0334 - val_dense_3_loss_1: 0.0940 - val_dense_3_loss_2: 0.1084 - val_dense_3_loss_3: 0.1311 - val_dense_3_loss_4: 0.2489 - val_dense_3_loss_5: 0.2822 - val_dense_3_loss_6: 0.2909 - val_dense_3_loss_7: 0.2762 - val_dense_3_loss_8: 0.2667 - val_dense_3_loss_9: 0.2815 - val_dense_3_loss_10: 0.2884 - val_dense_3_loss_11: 0.3228 - val_dense_3_loss_12: 0.3500 - val_dense_3_loss_13: 0.3511 - val_dense_3_loss_14: 0.3167 - val_dense_3_loss_15: 0.2497 - val_dense_3_loss_16: 0.1222 - val_dense_3_loss_17: 0.0356 - val_dense_3_loss_18: 0.0118 - val_dense_3_loss_19: 0.0035 - val_dense_3_loss_20: 9.9881e-04 - val_dense_3_loss_21: 7.7910e-04 - val_dense_3_acc_1: 0.9773 - val_dense_3_acc_2: 0.9755 - val_dense_3_acc_3: 0.9664 - val_dense_3_acc_4: 0.9342 - val_dense_3_acc_5: 0.9196 - val_dense_3_acc_6: 0.9206 - val_dense_3_acc_7: 0.9210 - val_dense_3_acc_8: 0.9222 - val_dense_3_acc_9: 0.9167 - val_dense_3_acc_10: 0.9110 - val_dense_3_acc_11: 0.8940 - val_dense_3_acc_12: 0.8878 - val_dense_3_acc_13: 0.8852 - val_dense_3_acc_14: 0.8939 - val_dense_3_acc_15: 0.9110 - val_dense_3_acc_16: 0.9571 - val_dense_3_acc_17: 0.9890 - val_dense_3_acc_18: 0.9967 - val_dense_3_acc_19: 0.9992 - val_dense_3_acc_20: 0.9999 - val_dense_3_acc_21: 0.9999\n",
      "Epoch 18/20\n",
      "110288/110288 [==============================] - 51s 462us/step - loss: 3.3496 - dense_3_loss_1: 0.0908 - dense_3_loss_2: 0.1022 - dense_3_loss_3: 0.1235 - dense_3_loss_4: 0.2290 - dense_3_loss_5: 0.2584 - dense_3_loss_6: 0.2697 - dense_3_loss_7: 0.2486 - dense_3_loss_8: 0.2418 - dense_3_loss_9: 0.2407 - dense_3_loss_10: 0.2383 - dense_3_loss_11: 0.2496 - dense_3_loss_12: 0.2649 - dense_3_loss_13: 0.2612 - dense_3_loss_14: 0.2283 - dense_3_loss_15: 0.1656 - dense_3_loss_16: 0.0855 - dense_3_loss_17: 0.0359 - dense_3_loss_18: 0.0119 - dense_3_loss_19: 0.0028 - dense_3_loss_20: 6.7962e-04 - dense_3_loss_21: 2.4397e-04 - dense_3_acc_1: 0.9789 - dense_3_acc_2: 0.9758 - dense_3_acc_3: 0.9685 - dense_3_acc_4: 0.9399 - dense_3_acc_5: 0.9283 - dense_3_acc_6: 0.9252 - dense_3_acc_7: 0.9291 - dense_3_acc_8: 0.9289 - dense_3_acc_9: 0.9304 - dense_3_acc_10: 0.9338 - dense_3_acc_11: 0.9329 - dense_3_acc_12: 0.9279 - dense_3_acc_13: 0.9267 - dense_3_acc_14: 0.9337 - dense_3_acc_15: 0.9506 - dense_3_acc_16: 0.9733 - dense_3_acc_17: 0.9886 - dense_3_acc_18: 0.9966 - dense_3_acc_19: 0.9994 - dense_3_acc_20: 0.9999 - dense_3_acc_21: 1.0000 - val_loss: 3.2992 - val_dense_3_loss_1: 0.0871 - val_dense_3_loss_2: 0.0981 - val_dense_3_loss_3: 0.1206 - val_dense_3_loss_4: 0.2275 - val_dense_3_loss_5: 0.2601 - val_dense_3_loss_6: 0.2656 - val_dense_3_loss_7: 0.2537 - val_dense_3_loss_8: 0.2438 - val_dense_3_loss_9: 0.2405 - val_dense_3_loss_10: 0.2325 - val_dense_3_loss_11: 0.2442 - val_dense_3_loss_12: 0.2599 - val_dense_3_loss_13: 0.2514 - val_dense_3_loss_14: 0.2168 - val_dense_3_loss_15: 0.1599 - val_dense_3_loss_16: 0.0880 - val_dense_3_loss_17: 0.0342 - val_dense_3_loss_18: 0.0104 - val_dense_3_loss_19: 0.0032 - val_dense_3_loss_20: 8.9173e-04 - val_dense_3_loss_21: 7.8431e-04 - val_dense_3_acc_1: 0.9786 - val_dense_3_acc_2: 0.9768 - val_dense_3_acc_3: 0.9690 - val_dense_3_acc_4: 0.9401 - val_dense_3_acc_5: 0.9298 - val_dense_3_acc_6: 0.9253 - val_dense_3_acc_7: 0.9271 - val_dense_3_acc_8: 0.9290 - val_dense_3_acc_9: 0.9323 - val_dense_3_acc_10: 0.9380 - val_dense_3_acc_11: 0.9354 - val_dense_3_acc_12: 0.9341 - val_dense_3_acc_13: 0.9346 - val_dense_3_acc_14: 0.9420 - val_dense_3_acc_15: 0.9561 - val_dense_3_acc_16: 0.9741 - val_dense_3_acc_17: 0.9895 - val_dense_3_acc_18: 0.9969 - val_dense_3_acc_19: 0.9993 - val_dense_3_acc_20: 0.9999 - val_dense_3_acc_21: 0.9999\n",
      "Epoch 19/20\n"
     ]
    },
    {
     "name": "stdout",
     "output_type": "stream",
     "text": [
      "110288/110288 [==============================] - 51s 462us/step - loss: 2.7674 - dense_3_loss_1: 0.0818 - dense_3_loss_2: 0.0916 - dense_3_loss_3: 0.1135 - dense_3_loss_4: 0.2068 - dense_3_loss_5: 0.2344 - dense_3_loss_6: 0.2392 - dense_3_loss_7: 0.2165 - dense_3_loss_8: 0.2056 - dense_3_loss_9: 0.1962 - dense_3_loss_10: 0.1901 - dense_3_loss_11: 0.1977 - dense_3_loss_12: 0.2053 - dense_3_loss_13: 0.1970 - dense_3_loss_14: 0.1656 - dense_3_loss_15: 0.1211 - dense_3_loss_16: 0.0647 - dense_3_loss_17: 0.0281 - dense_3_loss_18: 0.0092 - dense_3_loss_19: 0.0023 - dense_3_loss_20: 4.7878e-04 - dense_3_loss_21: 2.0587e-04 - dense_3_acc_1: 0.9802 - dense_3_acc_2: 0.9776 - dense_3_acc_3: 0.9706 - dense_3_acc_4: 0.9469 - dense_3_acc_5: 0.9362 - dense_3_acc_6: 0.9350 - dense_3_acc_7: 0.9387 - dense_3_acc_8: 0.9417 - dense_3_acc_9: 0.9456 - dense_3_acc_10: 0.9506 - dense_3_acc_11: 0.9508 - dense_3_acc_12: 0.9471 - dense_3_acc_13: 0.9477 - dense_3_acc_14: 0.9549 - dense_3_acc_15: 0.9655 - dense_3_acc_16: 0.9808 - dense_3_acc_17: 0.9913 - dense_3_acc_18: 0.9973 - dense_3_acc_19: 0.9994 - dense_3_acc_20: 0.9999 - dense_3_acc_21: 1.0000 - val_loss: 2.9466 - val_dense_3_loss_1: 0.0811 - val_dense_3_loss_2: 0.0918 - val_dense_3_loss_3: 0.1149 - val_dense_3_loss_4: 0.2130 - val_dense_3_loss_5: 0.2389 - val_dense_3_loss_6: 0.2408 - val_dense_3_loss_7: 0.2258 - val_dense_3_loss_8: 0.2139 - val_dense_3_loss_9: 0.2091 - val_dense_3_loss_10: 0.2049 - val_dense_3_loss_11: 0.2165 - val_dense_3_loss_12: 0.2302 - val_dense_3_loss_13: 0.2237 - val_dense_3_loss_14: 0.1935 - val_dense_3_loss_15: 0.1361 - val_dense_3_loss_16: 0.0703 - val_dense_3_loss_17: 0.0284 - val_dense_3_loss_18: 0.0096 - val_dense_3_loss_19: 0.0028 - val_dense_3_loss_20: 7.7720e-04 - val_dense_3_loss_21: 7.7348e-04 - val_dense_3_acc_1: 0.9804 - val_dense_3_acc_2: 0.9771 - val_dense_3_acc_3: 0.9700 - val_dense_3_acc_4: 0.9456 - val_dense_3_acc_5: 0.9369 - val_dense_3_acc_6: 0.9332 - val_dense_3_acc_7: 0.9361 - val_dense_3_acc_8: 0.9386 - val_dense_3_acc_9: 0.9423 - val_dense_3_acc_10: 0.9460 - val_dense_3_acc_11: 0.9448 - val_dense_3_acc_12: 0.9411 - val_dense_3_acc_13: 0.9410 - val_dense_3_acc_14: 0.9464 - val_dense_3_acc_15: 0.9601 - val_dense_3_acc_16: 0.9783 - val_dense_3_acc_17: 0.9910 - val_dense_3_acc_18: 0.9969 - val_dense_3_acc_19: 0.9993 - val_dense_3_acc_20: 0.9999 - val_dense_3_acc_21: 0.9999\n",
      "Epoch 20/20\n",
      "110288/110288 [==============================] - 51s 460us/step - loss: 2.5463 - dense_3_loss_1: 0.0763 - dense_3_loss_2: 0.0847 - dense_3_loss_3: 0.1055 - dense_3_loss_4: 0.1915 - dense_3_loss_5: 0.2173 - dense_3_loss_6: 0.2196 - dense_3_loss_7: 0.1992 - dense_3_loss_8: 0.1901 - dense_3_loss_9: 0.1818 - dense_3_loss_10: 0.1749 - dense_3_loss_11: 0.1819 - dense_3_loss_12: 0.1882 - dense_3_loss_13: 0.1792 - dense_3_loss_14: 0.1513 - dense_3_loss_15: 0.1094 - dense_3_loss_16: 0.0582 - dense_3_loss_17: 0.0258 - dense_3_loss_18: 0.0087 - dense_3_loss_19: 0.0020 - dense_3_loss_20: 4.5914e-04 - dense_3_loss_21: 1.9155e-04 - dense_3_acc_1: 0.9815 - dense_3_acc_2: 0.9790 - dense_3_acc_3: 0.9726 - dense_3_acc_4: 0.9507 - dense_3_acc_5: 0.9407 - dense_3_acc_6: 0.9397 - dense_3_acc_7: 0.9426 - dense_3_acc_8: 0.9450 - dense_3_acc_9: 0.9493 - dense_3_acc_10: 0.9546 - dense_3_acc_11: 0.9549 - dense_3_acc_12: 0.9523 - dense_3_acc_13: 0.9531 - dense_3_acc_14: 0.9587 - dense_3_acc_15: 0.9690 - dense_3_acc_16: 0.9827 - dense_3_acc_17: 0.9921 - dense_3_acc_18: 0.9972 - dense_3_acc_19: 0.9995 - dense_3_acc_20: 0.9999 - dense_3_acc_21: 1.0000 - val_loss: 2.8868 - val_dense_3_loss_1: 0.0758 - val_dense_3_loss_2: 0.0864 - val_dense_3_loss_3: 0.1077 - val_dense_3_loss_4: 0.1997 - val_dense_3_loss_5: 0.2296 - val_dense_3_loss_6: 0.2327 - val_dense_3_loss_7: 0.2204 - val_dense_3_loss_8: 0.2135 - val_dense_3_loss_9: 0.2107 - val_dense_3_loss_10: 0.2069 - val_dense_3_loss_11: 0.2202 - val_dense_3_loss_12: 0.2299 - val_dense_3_loss_13: 0.2187 - val_dense_3_loss_14: 0.1903 - val_dense_3_loss_15: 0.1360 - val_dense_3_loss_16: 0.0691 - val_dense_3_loss_17: 0.0265 - val_dense_3_loss_18: 0.0087 - val_dense_3_loss_19: 0.0025 - val_dense_3_loss_20: 6.9140e-04 - val_dense_3_loss_21: 7.1221e-04 - val_dense_3_acc_1: 0.9811 - val_dense_3_acc_2: 0.9781 - val_dense_3_acc_3: 0.9720 - val_dense_3_acc_4: 0.9478 - val_dense_3_acc_5: 0.9371 - val_dense_3_acc_6: 0.9330 - val_dense_3_acc_7: 0.9375 - val_dense_3_acc_8: 0.9368 - val_dense_3_acc_9: 0.9395 - val_dense_3_acc_10: 0.9438 - val_dense_3_acc_11: 0.9434 - val_dense_3_acc_12: 0.9408 - val_dense_3_acc_13: 0.9431 - val_dense_3_acc_14: 0.9488 - val_dense_3_acc_15: 0.9606 - val_dense_3_acc_16: 0.9794 - val_dense_3_acc_17: 0.9917 - val_dense_3_acc_18: 0.9973 - val_dense_3_acc_19: 0.9995 - val_dense_3_acc_20: 0.9999 - val_dense_3_acc_21: 1.0000\n"
     ]
    },
    {
     "data": {
      "text/plain": [
       "<keras.callbacks.History at 0x7fd8c52d07b8>"
      ]
     },
     "execution_count": 17,
     "metadata": {},
     "output_type": "execute_result"
    }
   ],
   "source": [
    "encdec_rnn_model.fit([preproc_english_sentences, s0, c0], outputs, batch_size=1024, epochs=20, validation_split=0.2)\n"
   ]
  },
  {
   "cell_type": "code",
   "execution_count": 23,
   "metadata": {},
   "outputs": [],
   "source": [
    "def dec_preds_to_text(predictions, tokenizer):\n",
    "    \"\"\"\n",
    "    Turn predictions (for one example) from an encoder-decoder model into text using the tokenizer.\n",
    "    :param logits: A list which has max_french_sequence_length (= number of time steps) elements. The shape of each element\n",
    "                   is (1, french_vocab_size+1).\n",
    "    \n",
    "    :param tokenizer: Keras Tokenizer fit on the label.\n",
    "    \n",
    "    :return: String that represents the text of the logits\n",
    "    \"\"\"\n",
    "    index_to_words = {id: word for word, id in tokenizer.word_index.items()}\n",
    "    index_to_words[0] = '<PAD>'\n",
    "    \n",
    "    results = []\n",
    "    for i in range(len(predictions)): # loop thru all the time steps.\n",
    "        for pred in np.argmax(predictions[i], 1): # Has only 1 pred\n",
    "            results.append(index_to_words[pred])\n",
    "\n",
    "    return ' '.join(results)"
   ]
  },
  {
   "cell_type": "code",
   "execution_count": 24,
   "metadata": {},
   "outputs": [
    {
     "name": "stdout",
     "output_type": "stream",
     "text": [
      "new jersey est parfois calme pendant l' de et il est neigeux en avril <PAD> <PAD> <PAD> <PAD> <PAD> <PAD> <PAD>\n"
     ]
    }
   ],
   "source": [
    "# Print prediction(s)\n",
    "predictions = encdec_rnn_model.predict([preproc_english_sentences[:1], s0, c0])\n",
    "print(dec_preds_to_text(predictions, french_tokenizer))"
   ]
  },
  {
   "cell_type": "markdown",
   "metadata": {},
   "source": [
    "**Observation:** the result is pretty good!"
   ]
  },
  {
   "cell_type": "markdown",
   "metadata": {},
   "source": [
    "### Model 5: Custom\n",
    "Based on our experiment, we put together a final model which will outperform all other models!"
   ]
  },
  {
   "cell_type": "code",
   "execution_count": 13,
   "metadata": {},
   "outputs": [
    {
     "name": "stdout",
     "output_type": "stream",
     "text": [
      "Final Model Loaded\n",
      "Train on 110288 samples, validate on 27573 samples\n",
      "Epoch 1/20\n",
      "110288/110288 [==============================] - 24s 221us/step - loss: 2.5537 - acc: 0.5095 - val_loss: 1.4741 - val_acc: 0.6442\n",
      "Epoch 2/20\n",
      "110288/110288 [==============================] - 24s 217us/step - loss: 1.0785 - acc: 0.7354 - val_loss: 0.8125 - val_acc: 0.7861\n",
      "Epoch 3/20\n",
      "110288/110288 [==============================] - 24s 217us/step - loss: 0.6629 - acc: 0.8181 - val_loss: 0.5405 - val_acc: 0.8474\n",
      "Epoch 4/20\n",
      "110288/110288 [==============================] - 24s 217us/step - loss: 0.4654 - acc: 0.8640 - val_loss: 0.3990 - val_acc: 0.8800\n",
      "Epoch 5/20\n",
      "110288/110288 [==============================] - 24s 217us/step - loss: 0.3550 - acc: 0.8932 - val_loss: 0.3116 - val_acc: 0.9059\n",
      "Epoch 6/20\n",
      "110288/110288 [==============================] - 24s 217us/step - loss: 0.2822 - acc: 0.9152 - val_loss: 0.2592 - val_acc: 0.9215\n",
      "Epoch 7/20\n",
      "110288/110288 [==============================] - 24s 216us/step - loss: 0.2358 - acc: 0.9289 - val_loss: 0.2243 - val_acc: 0.9323\n",
      "Epoch 8/20\n",
      "110288/110288 [==============================] - 24s 216us/step - loss: 0.2013 - acc: 0.9398 - val_loss: 0.1904 - val_acc: 0.9437\n",
      "Epoch 9/20\n",
      "110288/110288 [==============================] - 24s 216us/step - loss: 0.1746 - acc: 0.9483 - val_loss: 0.1759 - val_acc: 0.9474\n",
      "Epoch 10/20\n",
      "110288/110288 [==============================] - 24s 217us/step - loss: 0.1538 - acc: 0.9545 - val_loss: 0.1499 - val_acc: 0.9565\n",
      "Epoch 11/20\n",
      "110288/110288 [==============================] - 24s 217us/step - loss: 0.1372 - acc: 0.9597 - val_loss: 0.1378 - val_acc: 0.9603\n",
      "Epoch 12/20\n",
      "110288/110288 [==============================] - 24s 217us/step - loss: 0.1219 - acc: 0.9644 - val_loss: 0.1252 - val_acc: 0.9639\n",
      "Epoch 13/20\n",
      "110288/110288 [==============================] - 24s 217us/step - loss: 0.1112 - acc: 0.9674 - val_loss: 0.1189 - val_acc: 0.9652\n",
      "Epoch 14/20\n",
      "110288/110288 [==============================] - 24s 217us/step - loss: 0.1036 - acc: 0.9695 - val_loss: 0.1102 - val_acc: 0.9678\n",
      "Epoch 15/20\n",
      "110288/110288 [==============================] - 24s 217us/step - loss: 0.0943 - acc: 0.9721 - val_loss: 0.1057 - val_acc: 0.9694\n",
      "Epoch 16/20\n",
      "110288/110288 [==============================] - 24s 217us/step - loss: 0.0894 - acc: 0.9735 - val_loss: 0.1064 - val_acc: 0.9688\n",
      "Epoch 17/20\n",
      "110288/110288 [==============================] - 24s 217us/step - loss: 0.0824 - acc: 0.9755 - val_loss: 0.0953 - val_acc: 0.9719\n",
      "Epoch 18/20\n",
      "110288/110288 [==============================] - 24s 217us/step - loss: 0.0788 - acc: 0.9764 - val_loss: 0.0920 - val_acc: 0.9731\n",
      "Epoch 19/20\n",
      "110288/110288 [==============================] - 24s 217us/step - loss: 0.0746 - acc: 0.9777 - val_loss: 0.0857 - val_acc: 0.9754\n",
      "Epoch 20/20\n",
      "110288/110288 [==============================] - 24s 218us/step - loss: 0.0692 - acc: 0.9793 - val_loss: 0.0838 - val_acc: 0.9756\n",
      "new jersey est parfois calme pendant l' automne et il est neigeux en avril <PAD> <PAD> <PAD> <PAD> <PAD> <PAD> <PAD>\n"
     ]
    }
   ],
   "source": [
    "def model_final(input_shape, output_sequence_length, english_vocab_size, french_vocab_size):\n",
    "    \"\"\"\n",
    "    Build and train a model that incorporates embedding, and bidirectional RNN on x and y\n",
    "    :param input_shape: Tuple of input shape\n",
    "    :param output_sequence_length: Length of output sequence\n",
    "    :param english_vocab_size: Number of unique English words in the dataset\n",
    "    :param french_vocab_size: Number of unique French words in the dataset\n",
    "    :return: Keras model built, but not trained\n",
    "    \"\"\"\n",
    "    learning_rate = 1e-3\n",
    "    input_seq = Input(shape=input_shape[1:])\n",
    "    emb = Embedding(english_vocab_size, 300, input_length=output_sequence_length)(input_seq)\n",
    "    bd_rnn = Bidirectional(GRU(256, return_sequences=True))(emb)\n",
    "    logits = TimeDistributed(Dense(french_vocab_size))(bd_rnn)\n",
    "    \n",
    "    model = Model(input_seq, Activation('softmax')(logits))\n",
    "    model.compile(loss=sparse_categorical_crossentropy,\n",
    "                  optimizer=Adam(learning_rate),\n",
    "                  metrics=['accuracy'])\n",
    "    return model\n",
    "tests.test_model_final(model_final)\n",
    "\n",
    "\n",
    "print('Final Model Loaded')\n",
    "\n",
    "# Reshape the input\n",
    "tmp_x = pad(preproc_english_sentences, max_french_sequence_length)\n",
    "\n",
    "# Train the final model\n",
    "final_rnn_model = model_final(\n",
    "    tmp_x.shape,\n",
    "    max_french_sequence_length,\n",
    "    english_vocab_size+1,\n",
    "    french_vocab_size+1)\n",
    "final_rnn_model.fit(tmp_x, preproc_french_sentences, batch_size=1024, epochs=20, validation_split=0.2)\n",
    "\n",
    "# Print prediction(s)\n",
    "print(logits_to_text(final_rnn_model.predict(tmp_x[:1])[0], french_tokenizer))"
   ]
  },
  {
   "cell_type": "markdown",
   "metadata": {},
   "source": [
    "## Prediction"
   ]
  },
  {
   "cell_type": "code",
   "execution_count": 14,
   "metadata": {},
   "outputs": [
    {
     "name": "stdout",
     "output_type": "stream",
     "text": [
      "Sample 1:\n",
      "il a vu un vieux camion jaune <PAD> <PAD> <PAD> <PAD> <PAD> <PAD> <PAD> <PAD> <PAD> <PAD> <PAD> <PAD> <PAD> <PAD>\n",
      "Il a vu un vieux camion jaune\n",
      "Sample 2:\n",
      "new jersey est parfois calme pendant l' automne et il est neigeux en avril <PAD> <PAD> <PAD> <PAD> <PAD> <PAD> <PAD>\n",
      "new jersey est parfois calme pendant l' automne et il est neigeux en avril <PAD> <PAD> <PAD> <PAD> <PAD> <PAD> <PAD>\n"
     ]
    }
   ],
   "source": [
    "def final_predictions(x, y, x_tk, y_tk):\n",
    "    \"\"\"\n",
    "    Gets predictions using the final model\n",
    "    :param x: Preprocessed English data\n",
    "    :param y: Preprocessed French data\n",
    "    :param x_tk: English tokenizer\n",
    "    :param y_tk: French tokenizer\n",
    "    \"\"\"\n",
    "    model = final_rnn_model\n",
    "\n",
    "\n",
    "    y_id_to_word = {value: key for key, value in y_tk.word_index.items()}\n",
    "    y_id_to_word[0] = '<PAD>'\n",
    "\n",
    "    sentence = 'he saw a old yellow truck'\n",
    "    sentence = [x_tk.word_index[word] for word in sentence.split()]\n",
    "    sentence = pad_sequences([sentence], maxlen=y.shape[1], padding='post')\n",
    "    sentences = np.array([sentence[0], tmp_x[0]])\n",
    "    predictions = model.predict(sentences, len(sentences))\n",
    "\n",
    "    print('Sample 1:')\n",
    "    print(' '.join([y_id_to_word[np.argmax(x)] for x in predictions[0]]))\n",
    "    print('Il a vu un vieux camion jaune')\n",
    "    print('Sample 2:')\n",
    "    print(' '.join([y_id_to_word[np.argmax(x)] for x in predictions[1]]))\n",
    "    print(' '.join([y_id_to_word[np.max(x)] for x in y[0]]))\n",
    "\n",
    "\n",
    "final_predictions(preproc_english_sentences, preproc_french_sentences, english_tokenizer, french_tokenizer)"
   ]
  },
  {
   "cell_type": "markdown",
   "metadata": {},
   "source": [
    "## Future Enhancements\n",
    "\n",
    "This project focuses on experiment various network architectures for machine translation, but we don't evaluate the models according to best practices by splitting the data into separate test & training sets -- so the model accuracy is overstated. We may use the [`sklearn.model_selection.train_test_split()`](http://scikit-learn.org/stable/modules/generated/sklearn.model_selection.train_test_split.html) function to create separate training & test datasets, then retrain each of the models using only the training set and evaluate the prediction accuracy using the hold out test set. However, our final model should still perform very well - we can tell from the validataion accuracy!"
   ]
  }
 ],
 "metadata": {
  "kernelspec": {
   "display_name": "Python 3",
   "language": "python",
   "name": "python3"
  },
  "language_info": {
   "codemirror_mode": {
    "name": "ipython",
    "version": 3
   },
   "file_extension": ".py",
   "mimetype": "text/x-python",
   "name": "python",
   "nbconvert_exporter": "python",
   "pygments_lexer": "ipython3",
   "version": "3.6.4"
  }
 },
 "nbformat": 4,
 "nbformat_minor": 1
}
